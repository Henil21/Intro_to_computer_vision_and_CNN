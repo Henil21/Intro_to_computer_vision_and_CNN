{
  "nbformat": 4,
  "nbformat_minor": 0,
  "metadata": {
    "colab": {
      "provenance": [],
      "authorship_tag": "ABX9TyPr3E9wCh9bD+7u6wqly2mh",
      "include_colab_link": true
    },
    "kernelspec": {
      "name": "python3",
      "display_name": "Python 3"
    },
    "language_info": {
      "name": "python"
    },
    "accelerator": "GPU",
    "gpuClass": "standard"
  },
  "cells": [
    {
      "cell_type": "markdown",
      "metadata": {
        "id": "view-in-github",
        "colab_type": "text"
      },
      "source": [
        "<a href=\"https://colab.research.google.com/github/Henil21/Intro_to_computer_vision_and_CNN/blob/main/Transfer_learning_Fine_tuning.ipynb\" target=\"_parent\"><img src=\"https://colab.research.google.com/assets/colab-badge.svg\" alt=\"Open In Colab\"/></a>"
      ]
    },
    {
      "cell_type": "code",
      "source": [
        "# !nvidia-smi"
      ],
      "metadata": {
        "id": "PZP7c1zUgqdh"
      },
      "execution_count": 2,
      "outputs": []
    },
    {
      "cell_type": "markdown",
      "source": [
        "# **Fine-Tuning🌻**\n"
      ],
      "metadata": {
        "id": "qs3inHo0vHEV"
      }
    },
    {
      "cell_type": "markdown",
      "source": [
        "## Lets get some data\n",
        "How we can use the pretrained models within `tf.keras.applications` and apply them to our own problem (recognizing images of food)."
      ],
      "metadata": {
        "id": "8aEwzX8SIuzZ"
      }
    },
    {
      "cell_type": "markdown",
      "source": [
        "#importing Helper function"
      ],
      "metadata": {
        "id": "shq4tnOzjjHY"
      }
    },
    {
      "cell_type": "code",
      "source": [
        "!wget https://raw.githubusercontent.com/mrdbourke/tensorflow-deep-learning/main/extras/helper_functions.py \n",
        "\n",
        "# Import helper functions we're going to use\n",
        "from helper_functions import create_tensorboard_callback, plot_loss_curves, unzip_data, walk_through_dir"
      ],
      "metadata": {
        "colab": {
          "base_uri": "https://localhost:8080/"
        },
        "id": "JqN10tERjuYN",
        "outputId": "e8ab0265-8b68-466b-8877-9415049fd8e1"
      },
      "execution_count": 3,
      "outputs": [
        {
          "output_type": "stream",
          "name": "stdout",
          "text": [
            "--2022-12-15 11:19:59--  https://raw.githubusercontent.com/mrdbourke/tensorflow-deep-learning/main/extras/helper_functions.py\n",
            "Resolving raw.githubusercontent.com (raw.githubusercontent.com)... 185.199.108.133, 185.199.109.133, 185.199.110.133, ...\n",
            "Connecting to raw.githubusercontent.com (raw.githubusercontent.com)|185.199.108.133|:443... connected.\n",
            "HTTP request sent, awaiting response... 200 OK\n",
            "Length: 10246 (10K) [text/plain]\n",
            "Saving to: ‘helper_functions.py’\n",
            "\n",
            "helper_functions.py 100%[===================>]  10.01K  --.-KB/s    in 0s      \n",
            "\n",
            "2022-12-15 11:19:59 (107 MB/s) - ‘helper_functions.py’ saved [10246/10246]\n",
            "\n"
          ]
        }
      ]
    },
    {
      "cell_type": "code",
      "source": [
        "!wget https://storage.googleapis.com/ztm_tf_course/food_vision/10_food_classes_10_percent.zip \n",
        "\n",
        "unzip_data(\"10_food_classes_10_percent.zip\")"
      ],
      "metadata": {
        "id": "KpOpqbKTw6d4",
        "colab": {
          "base_uri": "https://localhost:8080/"
        },
        "outputId": "160c6e45-d830-447a-d079-1ac625dd8bdc"
      },
      "execution_count": 4,
      "outputs": [
        {
          "output_type": "stream",
          "name": "stdout",
          "text": [
            "--2022-12-15 11:20:00--  https://storage.googleapis.com/ztm_tf_course/food_vision/10_food_classes_10_percent.zip\n",
            "Resolving storage.googleapis.com (storage.googleapis.com)... 74.125.24.128, 142.250.4.128, 142.251.10.128, ...\n",
            "Connecting to storage.googleapis.com (storage.googleapis.com)|74.125.24.128|:443... connected.\n",
            "HTTP request sent, awaiting response... 200 OK\n",
            "Length: 168546183 (161M) [application/zip]\n",
            "Saving to: ‘10_food_classes_10_percent.zip’\n",
            "\n",
            "10_food_classes_10_ 100%[===================>] 160.74M  23.8MB/s    in 7.8s    \n",
            "\n",
            "2022-12-15 11:20:08 (20.5 MB/s) - ‘10_food_classes_10_percent.zip’ saved [168546183/168546183]\n",
            "\n"
          ]
        }
      ]
    },
    {
      "cell_type": "code",
      "source": [
        "walk_through_dir(\"10_food_classes_10_percent\")"
      ],
      "metadata": {
        "colab": {
          "base_uri": "https://localhost:8080/"
        },
        "id": "W0Oo47DfzPmZ",
        "outputId": "a0a8ad32-20ef-4d08-c16e-1d65ba0cfa2b"
      },
      "execution_count": 5,
      "outputs": [
        {
          "output_type": "stream",
          "name": "stdout",
          "text": [
            "There are 2 directories and 0 images in '10_food_classes_10_percent'.\n",
            "There are 10 directories and 0 images in '10_food_classes_10_percent/train'.\n",
            "There are 0 directories and 75 images in '10_food_classes_10_percent/train/chicken_wings'.\n",
            "There are 0 directories and 75 images in '10_food_classes_10_percent/train/steak'.\n",
            "There are 0 directories and 75 images in '10_food_classes_10_percent/train/ice_cream'.\n",
            "There are 0 directories and 75 images in '10_food_classes_10_percent/train/pizza'.\n",
            "There are 0 directories and 75 images in '10_food_classes_10_percent/train/hamburger'.\n",
            "There are 0 directories and 75 images in '10_food_classes_10_percent/train/fried_rice'.\n",
            "There are 0 directories and 75 images in '10_food_classes_10_percent/train/grilled_salmon'.\n",
            "There are 0 directories and 75 images in '10_food_classes_10_percent/train/ramen'.\n",
            "There are 0 directories and 75 images in '10_food_classes_10_percent/train/chicken_curry'.\n",
            "There are 0 directories and 75 images in '10_food_classes_10_percent/train/sushi'.\n",
            "There are 10 directories and 0 images in '10_food_classes_10_percent/test'.\n",
            "There are 0 directories and 250 images in '10_food_classes_10_percent/test/chicken_wings'.\n",
            "There are 0 directories and 250 images in '10_food_classes_10_percent/test/steak'.\n",
            "There are 0 directories and 250 images in '10_food_classes_10_percent/test/ice_cream'.\n",
            "There are 0 directories and 250 images in '10_food_classes_10_percent/test/pizza'.\n",
            "There are 0 directories and 250 images in '10_food_classes_10_percent/test/hamburger'.\n",
            "There are 0 directories and 250 images in '10_food_classes_10_percent/test/fried_rice'.\n",
            "There are 0 directories and 250 images in '10_food_classes_10_percent/test/grilled_salmon'.\n",
            "There are 0 directories and 250 images in '10_food_classes_10_percent/test/ramen'.\n",
            "There are 0 directories and 250 images in '10_food_classes_10_percent/test/chicken_curry'.\n",
            "There are 0 directories and 250 images in '10_food_classes_10_percent/test/sushi'.\n"
          ]
        }
      ]
    },
    {
      "cell_type": "code",
      "source": [
        "train_dir=\"10_food_classes_10_percent/train\"\n",
        "test_dir=\"10_food_classes_10_percent/test\""
      ],
      "metadata": {
        "id": "6rEA7FXUzpnR"
      },
      "execution_count": 6,
      "outputs": []
    },
    {
      "cell_type": "code",
      "source": [
        "import tensorflow as tf\n",
        "IMG_SIZE=(224,224)\n",
        "Batch_size=32\n",
        "train_data=tf.keras.preprocessing.image_dataset_from_directory(directory=train_dir,\n",
        "                                                                      image_size=IMG_SIZE,\n",
        "                                                                      label_mode=\"categorical\",\n",
        "                                                                      batch_size=Batch_size)\n",
        "test_data=tf.keras.preprocessing.image_dataset_from_directory(directory=test_dir,\n",
        "                                                                      image_size=IMG_SIZE,\n",
        "                                                                      label_mode=\"categorical\",\n",
        "                                                                      batch_size=Batch_size)"
      ],
      "metadata": {
        "id": "6y4Vu_v9z-I2",
        "colab": {
          "base_uri": "https://localhost:8080/"
        },
        "outputId": "acc96ed6-21c9-47d9-feae-298118509eb8"
      },
      "execution_count": 7,
      "outputs": [
        {
          "output_type": "stream",
          "name": "stdout",
          "text": [
            "Found 750 files belonging to 10 classes.\n",
            "Found 2500 files belonging to 10 classes.\n"
          ]
        }
      ]
    },
    {
      "cell_type": "code",
      "source": [
        "train_data.class_names"
      ],
      "metadata": {
        "colab": {
          "base_uri": "https://localhost:8080/"
        },
        "id": "dleuYGGEhZIU",
        "outputId": "2424db58-7051-4fbc-805c-33b0f9b0d6a1"
      },
      "execution_count": 10,
      "outputs": [
        {
          "output_type": "execute_result",
          "data": {
            "text/plain": [
              "['chicken_curry',\n",
              " 'chicken_wings',\n",
              " 'fried_rice',\n",
              " 'grilled_salmon',\n",
              " 'hamburger',\n",
              " 'ice_cream',\n",
              " 'pizza',\n",
              " 'ramen',\n",
              " 'steak',\n",
              " 'sushi']"
            ]
          },
          "metadata": {},
          "execution_count": 10
        }
      ]
    },
    {
      "cell_type": "markdown",
      "source": [
        "## Model 0: Building transfer learning model using the keras `Functional API`\n",
        "\n",
        ">The functional API gives us flexibility with our model\n",
        "\n",
        "\n",
        "Keras Applications are premade architectures with pre-trained weights."
      ],
      "metadata": {
        "id": "-1_X0NwEjau2"
      }
    },
    {
      "cell_type": "code",
      "source": [
        "#1 we are using include_top=false beacuse its top layers has 1k output layers \n",
        "base_model=tf.keras.applications.EfficientNetB0(include_top=False)\n",
        "\n",
        "# 2. Freeze the base model\n",
        "base_model.trainable=False\n",
        "\n",
        "#3. Create inputs into out model\n",
        "inputs=tf.keras.layers.Input(shape=(224,224,3),name='input_layer')\n",
        "\n",
        "# 4. if using like ResNet50V2 you will need to normalize inputs (we dont need for EfficientNet it has built in)\n",
        "# x= tf.keras.layers.experimental.preprocessing.Rescaling(1./255)(inputs)\n",
        "\n",
        "# 5. passing input to the base_model\n",
        "x=base_model(inputs)\n",
        "print(f\"shape after passing inputs through base model:{x.shape}\")\n",
        "\n",
        "# 6.Average pool the outputs of the base model (aggregate all the most important information, reduce number of computations)\n",
        "x=tf.keras.layers.GlobalAveragePooling2D(name='global_avg_pooling_layer')(x)\n",
        "print(f\"shape after passing inputs through global_avg_pooling_layer:{x.shape}\")\n",
        "\n",
        "# 7. Create the Output activation layer\n",
        "output=tf.keras.layers.Dense(10,activation=\"softmax\",name=\"output_layer\")(x)\n",
        "\n",
        "# 8. Compile for the model\n",
        "model_0=tf.keras.Model(inputs,output)\n",
        "model_0.compile(loss='categorical_crossentropy',\n",
        "                optimizer=tf.keras.optimizers.Adam(),\n",
        "                metrics=[\"accuracy\"])\n",
        "history_1=model_0.fit(train_data,\n",
        "                      epochs=5,\n",
        "                      steps_per_epoch=len(train_data),\n",
        "                      validation_data=test_data,\n",
        "                      validation_steps=len(test_data),\n",
        "                      callbacks=create_tensorboard_callback(dir_name=\"transfer_learning\", experiment_name=\"10_percent_feature_extraction\"))"
      ],
      "metadata": {
        "colab": {
          "base_uri": "https://localhost:8080/"
        },
        "id": "4sHm9EY0o6lQ",
        "outputId": "11b9b14d-36c4-41bf-92d2-01a834acb70d"
      },
      "execution_count": 18,
      "outputs": [
        {
          "output_type": "stream",
          "name": "stdout",
          "text": [
            "shape after passing inputs through base model:(None, 7, 7, 1280)\n",
            "shape after passing inputs through global_avg_pooling_layer:(None, 1280)\n",
            "Saving TensorBoard log files to: transfer_learning/10_percent_feature_extraction/20221215-123921\n",
            "Epoch 1/5\n",
            "24/24 [==============================] - 16s 431ms/step - loss: 1.8232 - accuracy: 0.4293 - val_loss: 1.2366 - val_accuracy: 0.7644\n",
            "Epoch 2/5\n",
            "24/24 [==============================] - 8s 329ms/step - loss: 1.0742 - accuracy: 0.7587 - val_loss: 0.8396 - val_accuracy: 0.8304\n",
            "Epoch 3/5\n",
            "24/24 [==============================] - 8s 331ms/step - loss: 0.7772 - accuracy: 0.8293 - val_loss: 0.6775 - val_accuracy: 0.8516\n",
            "Epoch 4/5\n",
            "24/24 [==============================] - 8s 328ms/step - loss: 0.6391 - accuracy: 0.8573 - val_loss: 0.6000 - val_accuracy: 0.8564\n",
            "Epoch 5/5\n",
            "24/24 [==============================] - 8s 323ms/step - loss: 0.5400 - accuracy: 0.8840 - val_loss: 0.5492 - val_accuracy: 0.8600\n"
          ]
        }
      ]
    },
    {
      "cell_type": "code",
      "source": [
        "model_0.summary()"
      ],
      "metadata": {
        "colab": {
          "base_uri": "https://localhost:8080/"
        },
        "id": "ruBfE2uO0IWv",
        "outputId": "80cf0877-2e61-4b35-f450-ed17c23871cc"
      },
      "execution_count": 19,
      "outputs": [
        {
          "output_type": "stream",
          "name": "stdout",
          "text": [
            "Model: \"model_2\"\n",
            "_________________________________________________________________\n",
            " Layer (type)                Output Shape              Param #   \n",
            "=================================================================\n",
            " input_layer (InputLayer)    [(None, 224, 224, 3)]     0         \n",
            "                                                                 \n",
            " efficientnetb0 (Functional)  (None, None, None, 1280)  4049571  \n",
            "                                                                 \n",
            " global_avg_pooling_layer (G  (None, 1280)             0         \n",
            " lobalAveragePooling2D)                                          \n",
            "                                                                 \n",
            " output_layer (Dense)        (None, 10)                12810     \n",
            "                                                                 \n",
            "=================================================================\n",
            "Total params: 4,062,381\n",
            "Trainable params: 12,810\n",
            "Non-trainable params: 4,049,571\n",
            "_________________________________________________________________\n"
          ]
        }
      ]
    },
    {
      "cell_type": "code",
      "source": [
        "plot_loss_curves(history_1)"
      ],
      "metadata": {
        "colab": {
          "base_uri": "https://localhost:8080/",
          "height": 573
        },
        "id": "_p5J9I970WkU",
        "outputId": "723ee462-53ec-4872-f4c8-996226458997"
      },
      "execution_count": 20,
      "outputs": [
        {
          "output_type": "display_data",
          "data": {
            "text/plain": [
              "<Figure size 432x288 with 1 Axes>"
            ],
            "image/png": "[encoded data removed]"
          },
          "metadata": {
            "needs_background": "light"
          }
        },
        {
          "output_type": "display_data",
          "data": {
            "text/plain": [
              "<Figure size 432x288 with 1 Axes>"
            ],
            "image/png": "[encoded data removed]"
          },
          "metadata": {
            "needs_background": "light"
          }
        }
      ]
    }
  ]
}