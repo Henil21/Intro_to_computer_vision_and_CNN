{
  "nbformat": 4,
  "nbformat_minor": 0,
  "metadata": {
    "colab": {
      "provenance": [],
      "authorship_tag": "ABX9TyNWRlCc1/94WHxaniqkv/5H",
      "include_colab_link": true
    },
    "kernelspec": {
      "name": "python3",
      "display_name": "Python 3"
    },
    "language_info": {
      "name": "python"
    },
    "accelerator": "GPU",
    "gpuClass": "standard"
  },
  "cells": [
    {
      "cell_type": "markdown",
      "metadata": {
        "id": "view-in-github",
        "colab_type": "text"
      },
      "source": [
        "<a href=\"https://colab.research.google.com/github/Henil21/Intro_to_computer_vision_and_CNN/blob/main/Transfer_learning_Fine_tuning.ipynb\" target=\"_parent\"><img src=\"https://colab.research.google.com/assets/colab-badge.svg\" alt=\"Open In Colab\"/></a>"
      ]
    },
    {
      "cell_type": "code",
      "source": [
        "# !nvidia-smi"
      ],
      "metadata": {
        "id": "PZP7c1zUgqdh"
      },
      "execution_count": 1,
      "outputs": []
    },
    {
      "cell_type": "markdown",
      "source": [
        "# **Fine-Tuning🌻**\n"
      ],
      "metadata": {
        "id": "qs3inHo0vHEV"
      }
    },
    {
      "cell_type": "markdown",
      "source": [
        "## Lets get some data\n",
        "How we can use the pretrained models within `tf.keras.applications` and apply them to our own problem (recognizing images of food)."
      ],
      "metadata": {
        "id": "8aEwzX8SIuzZ"
      }
    },
    {
      "cell_type": "markdown",
      "source": [
        "#importing Helper function"
      ],
      "metadata": {
        "id": "shq4tnOzjjHY"
      }
    },
    {
      "cell_type": "code",
      "source": [
        "!wget https://raw.githubusercontent.com/mrdbourke/tensorflow-deep-learning/main/extras/helper_functions.py \n",
        "\n",
        "# Import helper functions we're going to use\n",
        "from helper_functions import create_tensorboard_callback, plot_loss_curves, unzip_data, walk_through_dir"
      ],
      "metadata": {
        "colab": {
          "base_uri": "https://localhost:8080/"
        },
        "id": "JqN10tERjuYN",
        "outputId": "dae9effe-53e3-49ec-ca03-c9706c83a3f6"
      },
      "execution_count": 2,
      "outputs": [
        {
          "output_type": "stream",
          "name": "stdout",
          "text": [
            "--2022-12-17 12:58:00--  https://raw.githubusercontent.com/mrdbourke/tensorflow-deep-learning/main/extras/helper_functions.py\n",
            "Resolving raw.githubusercontent.com (raw.githubusercontent.com)... 185.199.110.133, 185.199.111.133, 185.199.109.133, ...\n",
            "Connecting to raw.githubusercontent.com (raw.githubusercontent.com)|185.199.110.133|:443... connected.\n",
            "HTTP request sent, awaiting response... 200 OK\n",
            "Length: 10246 (10K) [text/plain]\n",
            "Saving to: ‘helper_functions.py’\n",
            "\n",
            "\rhelper_functions.py   0%[                    ]       0  --.-KB/s               \rhelper_functions.py 100%[===================>]  10.01K  --.-KB/s    in 0s      \n",
            "\n",
            "2022-12-17 12:58:00 (97.8 MB/s) - ‘helper_functions.py’ saved [10246/10246]\n",
            "\n"
          ]
        }
      ]
    },
    {
      "cell_type": "code",
      "source": [
        "!wget https://storage.googleapis.com/ztm_tf_course/food_vision/10_food_classes_10_percent.zip \n",
        "\n",
        "unzip_data(\"10_food_classes_10_percent.zip\")"
      ],
      "metadata": {
        "id": "KpOpqbKTw6d4",
        "colab": {
          "base_uri": "https://localhost:8080/"
        },
        "outputId": "bb3bbb16-1782-4ffa-d2f7-130256ff45a7"
      },
      "execution_count": 3,
      "outputs": [
        {
          "output_type": "stream",
          "name": "stdout",
          "text": [
            "--2022-12-17 12:58:03--  https://storage.googleapis.com/ztm_tf_course/food_vision/10_food_classes_10_percent.zip\n",
            "Resolving storage.googleapis.com (storage.googleapis.com)... 108.177.127.128, 172.217.218.128, 142.250.153.128, ...\n",
            "Connecting to storage.googleapis.com (storage.googleapis.com)|108.177.127.128|:443... connected.\n",
            "HTTP request sent, awaiting response... 200 OK\n",
            "Length: 168546183 (161M) [application/zip]\n",
            "Saving to: ‘10_food_classes_10_percent.zip’\n",
            "\n",
            "10_food_classes_10_ 100%[===================>] 160.74M  39.9MB/s    in 4.6s    \n",
            "\n",
            "2022-12-17 12:58:08 (34.7 MB/s) - ‘10_food_classes_10_percent.zip’ saved [168546183/168546183]\n",
            "\n"
          ]
        }
      ]
    },
    {
      "cell_type": "code",
      "source": [
        "walk_through_dir(\"10_food_classes_10_percent\")"
      ],
      "metadata": {
        "colab": {
          "base_uri": "https://localhost:8080/"
        },
        "id": "W0Oo47DfzPmZ",
        "outputId": "a56b07b2-471d-42dd-cdbb-fcb5a83c89e6"
      },
      "execution_count": 4,
      "outputs": [
        {
          "output_type": "stream",
          "name": "stdout",
          "text": [
            "There are 2 directories and 0 images in '10_food_classes_10_percent'.\n",
            "There are 10 directories and 0 images in '10_food_classes_10_percent/train'.\n",
            "There are 0 directories and 75 images in '10_food_classes_10_percent/train/chicken_curry'.\n",
            "There are 0 directories and 75 images in '10_food_classes_10_percent/train/pizza'.\n",
            "There are 0 directories and 75 images in '10_food_classes_10_percent/train/ramen'.\n",
            "There are 0 directories and 75 images in '10_food_classes_10_percent/train/grilled_salmon'.\n",
            "There are 0 directories and 75 images in '10_food_classes_10_percent/train/chicken_wings'.\n",
            "There are 0 directories and 75 images in '10_food_classes_10_percent/train/fried_rice'.\n",
            "There are 0 directories and 75 images in '10_food_classes_10_percent/train/sushi'.\n",
            "There are 0 directories and 75 images in '10_food_classes_10_percent/train/hamburger'.\n",
            "There are 0 directories and 75 images in '10_food_classes_10_percent/train/steak'.\n",
            "There are 0 directories and 75 images in '10_food_classes_10_percent/train/ice_cream'.\n",
            "There are 10 directories and 0 images in '10_food_classes_10_percent/test'.\n",
            "There are 0 directories and 250 images in '10_food_classes_10_percent/test/chicken_curry'.\n",
            "There are 0 directories and 250 images in '10_food_classes_10_percent/test/pizza'.\n",
            "There are 0 directories and 250 images in '10_food_classes_10_percent/test/ramen'.\n",
            "There are 0 directories and 250 images in '10_food_classes_10_percent/test/grilled_salmon'.\n",
            "There are 0 directories and 250 images in '10_food_classes_10_percent/test/chicken_wings'.\n",
            "There are 0 directories and 250 images in '10_food_classes_10_percent/test/fried_rice'.\n",
            "There are 0 directories and 250 images in '10_food_classes_10_percent/test/sushi'.\n",
            "There are 0 directories and 250 images in '10_food_classes_10_percent/test/hamburger'.\n",
            "There are 0 directories and 250 images in '10_food_classes_10_percent/test/steak'.\n",
            "There are 0 directories and 250 images in '10_food_classes_10_percent/test/ice_cream'.\n"
          ]
        }
      ]
    },
    {
      "cell_type": "code",
      "source": [
        "train_dir=\"10_food_classes_10_percent/train\"\n",
        "test_dir=\"10_food_classes_10_percent/test\""
      ],
      "metadata": {
        "id": "6rEA7FXUzpnR"
      },
      "execution_count": 5,
      "outputs": []
    },
    {
      "cell_type": "code",
      "source": [
        "import tensorflow as tf\n",
        "IMG_SIZE=(224,224)\n",
        "Batch_size=32\n",
        "train_data=tf.keras.preprocessing.image_dataset_from_directory(directory=train_dir,\n",
        "                                                                      image_size=IMG_SIZE,\n",
        "                                                                      label_mode=\"categorical\",\n",
        "                                                                      batch_size=Batch_size)\n",
        "test_data=tf.keras.preprocessing.image_dataset_from_directory(directory=test_dir,\n",
        "                                                                      image_size=IMG_SIZE,\n",
        "                                                                      label_mode=\"categorical\",\n",
        "                                                                      batch_size=Batch_size)"
      ],
      "metadata": {
        "id": "6y4Vu_v9z-I2",
        "colab": {
          "base_uri": "https://localhost:8080/"
        },
        "outputId": "95706990-4cd9-4042-f74f-5ff27934f44a"
      },
      "execution_count": 6,
      "outputs": [
        {
          "output_type": "stream",
          "name": "stdout",
          "text": [
            "Found 750 files belonging to 10 classes.\n",
            "Found 2500 files belonging to 10 classes.\n"
          ]
        }
      ]
    },
    {
      "cell_type": "code",
      "source": [
        "train_data.class_names"
      ],
      "metadata": {
        "colab": {
          "base_uri": "https://localhost:8080/"
        },
        "id": "dleuYGGEhZIU",
        "outputId": "a334fdf6-d1a8-4b63-f4b4-292b41c6ad4a"
      },
      "execution_count": 7,
      "outputs": [
        {
          "output_type": "execute_result",
          "data": {
            "text/plain": [
              "['chicken_curry',\n",
              " 'chicken_wings',\n",
              " 'fried_rice',\n",
              " 'grilled_salmon',\n",
              " 'hamburger',\n",
              " 'ice_cream',\n",
              " 'pizza',\n",
              " 'ramen',\n",
              " 'steak',\n",
              " 'sushi']"
            ]
          },
          "metadata": {},
          "execution_count": 7
        }
      ]
    },
    {
      "cell_type": "markdown",
      "source": [
        "## Model 0: Building transfer learning model using the keras `Functional API`\n",
        "\n",
        ">The functional API gives us flexibility with our model\n",
        "\n",
        "\n",
        "Keras Applications are premade architectures with pre-trained weights."
      ],
      "metadata": {
        "id": "-1_X0NwEjau2"
      }
    },
    {
      "cell_type": "code",
      "source": [
        "#1 we are using include_top=false beacuse its top layers has 1k output layers \n",
        "base_model=tf.keras.applications.EfficientNetB0(include_top=False)\n",
        "\n",
        "# 2. Freeze the base model\n",
        "base_model.trainable=False\n",
        "\n",
        "#3. Create inputs into out model\n",
        "inputs=tf.keras.layers.Input(shape=(224,224,3),name='input_layer')\n",
        "\n",
        "# 4. if using like ResNet50V2 you will need to normalize inputs (we dont need for EfficientNet it has built in)\n",
        "# x= tf.keras.layers.experimental.preprocessing.Rescaling(1./255)(inputs)\n",
        "\n",
        "# 5. passing input to the base_model\n",
        "x=base_model(inputs)\n",
        "print(f\"shape after passing inputs through base model:{x.shape}\")\n",
        "\n",
        "# 6.Average pool the outputs of the base model (aggregate all the most important information, reduce number of computations)\n",
        "x=tf.keras.layers.GlobalAveragePooling2D(name='global_avg_pooling_layer')(x)\n",
        "print(f\"shape after passing inputs through global_avg_pooling_layer:{x.shape}\")\n",
        "\n",
        "# 7. Create the Output activation layer\n",
        "output=tf.keras.layers.Dense(10,activation=\"softmax\",name=\"output_layer\")(x)\n",
        "\n",
        "# 8. Compile for the model\n",
        "model_0=tf.keras.Model(inputs,output)\n",
        "model_0.compile(loss='categorical_crossentropy',\n",
        "                optimizer=tf.keras.optimizers.Adam(),\n",
        "                metrics=[\"accuracy\"])\n",
        "history_1=model_0.fit(train_data,\n",
        "                      epochs=5,\n",
        "                      steps_per_epoch=len(train_data),\n",
        "                      validation_data=test_data,\n",
        "                      validation_steps=len(test_data),\n",
        "                      callbacks=create_tensorboard_callback(dir_name=\"transfer_learning\", experiment_name=\"10_percent_feature_extraction\"))"
      ],
      "metadata": {
        "colab": {
          "base_uri": "https://localhost:8080/"
        },
        "id": "4sHm9EY0o6lQ",
        "outputId": "b34bb79d-cd6f-4859-ed1c-706cb6861ea3"
      },
      "execution_count": 8,
      "outputs": [
        {
          "output_type": "stream",
          "name": "stdout",
          "text": [
            "Downloading data from https://storage.googleapis.com/keras-applications/efficientnetb0_notop.h5\n",
            "16705208/16705208 [==============================] - 1s 0us/step\n",
            "shape after passing inputs through base model:(None, 7, 7, 1280)\n",
            "shape after passing inputs through global_avg_pooling_layer:(None, 1280)\n",
            "Saving TensorBoard log files to: transfer_learning/10_percent_feature_extraction/20221217-125816\n",
            "Epoch 1/5\n",
            "24/24 [==============================] - 23s 422ms/step - loss: 1.9028 - accuracy: 0.3987 - val_loss: 1.3206 - val_accuracy: 0.7380\n",
            "Epoch 2/5\n",
            "24/24 [==============================] - 8s 334ms/step - loss: 1.1014 - accuracy: 0.7680 - val_loss: 0.8654 - val_accuracy: 0.8284\n",
            "Epoch 3/5\n",
            "24/24 [==============================] - 8s 328ms/step - loss: 0.7843 - accuracy: 0.8307 - val_loss: 0.6906 - val_accuracy: 0.8464\n",
            "Epoch 4/5\n",
            "24/24 [==============================] - 8s 333ms/step - loss: 0.6413 - accuracy: 0.8493 - val_loss: 0.6029 - val_accuracy: 0.8576\n",
            "Epoch 5/5\n",
            "24/24 [==============================] - 8s 334ms/step - loss: 0.5437 - accuracy: 0.8747 - val_loss: 0.5521 - val_accuracy: 0.8644\n"
          ]
        }
      ]
    },
    {
      "cell_type": "code",
      "source": [
        "model_0.summary()"
      ],
      "metadata": {
        "colab": {
          "base_uri": "https://localhost:8080/"
        },
        "id": "ruBfE2uO0IWv",
        "outputId": "b58eb300-78ef-4bde-b3fb-ca6295f76af4"
      },
      "execution_count": 9,
      "outputs": [
        {
          "output_type": "stream",
          "name": "stdout",
          "text": [
            "Model: \"model\"\n",
            "_________________________________________________________________\n",
            " Layer (type)                Output Shape              Param #   \n",
            "=================================================================\n",
            " input_layer (InputLayer)    [(None, 224, 224, 3)]     0         \n",
            "                                                                 \n",
            " efficientnetb0 (Functional)  (None, None, None, 1280)  4049571  \n",
            "                                                                 \n",
            " global_avg_pooling_layer (G  (None, 1280)             0         \n",
            " lobalAveragePooling2D)                                          \n",
            "                                                                 \n",
            " output_layer (Dense)        (None, 10)                12810     \n",
            "                                                                 \n",
            "=================================================================\n",
            "Total params: 4,062,381\n",
            "Trainable params: 12,810\n",
            "Non-trainable params: 4,049,571\n",
            "_________________________________________________________________\n"
          ]
        }
      ]
    },
    {
      "cell_type": "code",
      "source": [
        "plot_loss_curves(history_1)"
      ],
      "metadata": {
        "colab": {
          "base_uri": "https://localhost:8080/",
          "height": 573
        },
        "id": "_p5J9I970WkU",
        "outputId": "0ca01acc-a1fa-458c-8e02-e1b1c45104e8"
      },
      "execution_count": 10,
      "outputs": [
        {
          "output_type": "display_data",
          "data": {
            "text/plain": [
              "<Figure size 432x288 with 1 Axes>"
            ],
            "image/png": "[encoded data removed]"
          },
          "metadata": {
            "needs_background": "light"
          }
        },
        {
          "output_type": "display_data",
          "data": {
            "text/plain": [
              "<Figure size 432x288 with 1 Axes>"
            ],
            "image/png": "[encoded data removed]"
          },
          "metadata": {
            "needs_background": "light"
          }
        }
      ]
    },
    {
      "cell_type": "markdown",
      "source": [
        "## Getting a fearure vector from  a trained model ⛹\n",
        "\n",
        "\n",
        "let's demonstrate the Global Average Pooling 2D layerss..\n",
        "\n",
        "\n",
        "we have a tensor after our model goes through `base_model` of shape (None,7,7,1280)\n",
        "\n",
        "\n",
        "\n",
        "but as we pass it to globalaveragePooling2D it turns into (None,1280).\n",
        "\n",
        "\n",
        "Let's use a similar shaped tensor of (1,4,4,3) and then pass it to GlobalAveragePooling 2D.\n",
        "\n"
      ],
      "metadata": {
        "id": "QbSRv-DGnKNW"
      }
    },
    {
      "cell_type": "code",
      "source": [
        "#  define the input shape\n",
        "input_shape=(1,4,4,3)\n",
        "\n",
        "# create a random tensor\n",
        "tf.random.set_seed(42)\n",
        "input_tensor=tf.random.normal(input_shape)\n",
        "print(f\"random input tensor:\\n{input_tensor}\\n\")\n",
        "\n",
        "# pass the random tensor through a global average pooling 2D layer\n",
        "global_average_pooled_tensor=tf.keras.layers.GlobalAveragePooling2D()(input_tensor)\n",
        "print(f\"global average pooled tensor tensor:\\n{global_average_pooled_tensor}\\n\")"
      ],
      "metadata": {
        "colab": {
          "base_uri": "https://localhost:8080/"
        },
        "id": "sKMUzXncoJab",
        "outputId": "2b9fd87c-c07e-4e8a-d92d-b32862a36a2e"
      },
      "execution_count": 11,
      "outputs": [
        {
          "output_type": "stream",
          "name": "stdout",
          "text": [
            "random input tensor:\n",
            "[[[[ 0.3274685  -0.8426258   0.3194337 ]\n",
            "   [-1.4075519  -2.3880599  -1.0392479 ]\n",
            "   [-0.5573232   0.539707    1.6994323 ]\n",
            "   [ 0.28893656 -1.5066116  -0.2645474 ]]\n",
            "\n",
            "  [[-0.59722406 -1.9171132  -0.62044144]\n",
            "   [ 0.8504023  -0.40604794 -3.0258412 ]\n",
            "   [ 0.9058464   0.29855987 -0.22561555]\n",
            "   [-0.7616443  -1.8917141  -0.93847126]]\n",
            "\n",
            "  [[ 0.77852213 -0.47338897  0.97772694]\n",
            "   [ 0.24694404  0.20573747 -0.5256233 ]\n",
            "   [ 0.32410017  0.02545409 -0.10638497]\n",
            "   [-0.6369475   1.1603122   0.2507359 ]]\n",
            "\n",
            "  [[-0.41728503  0.4012578  -1.4145443 ]\n",
            "   [-0.5931857  -1.6617213   0.33567193]\n",
            "   [ 0.10815629  0.23479682 -0.56668764]\n",
            "   [-0.35819843  0.88698614  0.52744764]]]]\n",
            "\n",
            "global average pooled tensor tensor:\n",
            "[[-0.09368646 -0.45840448 -0.2885598 ]]\n",
            "\n"
          ]
        }
      ]
    }
  ]
}