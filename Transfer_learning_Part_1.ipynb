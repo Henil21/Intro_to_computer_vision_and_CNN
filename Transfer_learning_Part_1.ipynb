{
  "cells": [
    {
      "cell_type": "markdown",
      "metadata": {
        "id": "view-in-github",
        "colab_type": "text"
      },
      "source": [
        "<a href=\"https://colab.research.google.com/github/Henil21/Intro_to_computer_vision_and_CNN/blob/main/Transfer_learning_Part_1.ipynb\" target=\"_parent\"><img src=\"https://colab.research.google.com/assets/colab-badge.svg\" alt=\"Open In Colab\"/></a>"
      ]
    },
    {
      "cell_type": "markdown",
      "metadata": {
        "id": "rReQdhwad9sr"
      },
      "source": [
        "There are two main benefits to using transfer learning:\n",
        "\n",
        "1. Can leverage an existing neural network architecture proven to work on problems similar to our own.\n",
        "\n",
        "\n",
        "2. Can leverage a working neural network architecture which has already learned patterns on similar data to our own. This often results in achieving great results with less custom data."
      ]
    },
    {
      "cell_type": "code",
      "execution_count": null,
      "metadata": {
        "colab": {
          "base_uri": "https://localhost:8080/"
        },
        "id": "X2EXu5x2aaUl",
        "outputId": "43ff9376-32d4-4b13-a28e-ff410405e362"
      },
      "outputs": [
        {
          "name": "stdout",
          "output_type": "stream",
          "text": [
            "Thu Dec  1 17:01:21 2022       \n",
            "+-----------------------------------------------------------------------------+\n",
            "| NVIDIA-SMI 460.32.03    Driver Version: 460.32.03    CUDA Version: 11.2     |\n",
            "|-------------------------------+----------------------+----------------------+\n",
            "| GPU  Name        Persistence-M| Bus-Id        Disp.A | Volatile Uncorr. ECC |\n",
            "| Fan  Temp  Perf  Pwr:Usage/Cap|         Memory-Usage | GPU-Util  Compute M. |\n",
            "|                               |                      |               MIG M. |\n",
            "|===============================+======================+======================|\n",
            "|   0  Tesla T4            Off  | 00000000:00:04.0 Off |                    0 |\n",
            "| N/A   53C    P0    27W /  70W |      0MiB / 15109MiB |      0%      Default |\n",
            "|                               |                      |                  N/A |\n",
            "+-------------------------------+----------------------+----------------------+\n",
            "                                                                               \n",
            "+-----------------------------------------------------------------------------+\n",
            "| Processes:                                                                  |\n",
            "|  GPU   GI   CI        PID   Type   Process name                  GPU Memory |\n",
            "|        ID   ID                                                   Usage      |\n",
            "|=============================================================================|\n",
            "|  No running processes found                                                 |\n",
            "+-----------------------------------------------------------------------------+\n"
          ]
        }
      ],
      "source": [
        "# lets check we are using gpu or not\n",
        "!nvidia-smi"
      ]
    },
    {
      "cell_type": "code",
      "execution_count": null,
      "metadata": {
        "colab": {
          "base_uri": "https://localhost:8080/"
        },
        "id": "iaR1LLcheMlE",
        "outputId": "81d8789a-74f3-42d0-a8f0-d34b444fca81"
      },
      "outputs": [
        {
          "name": "stdout",
          "output_type": "stream",
          "text": [
            "--2022-12-01 17:01:21--  https://storage.googleapis.com/ztm_tf_course/food_vision/10_food_classes_10_percent.zip\n",
            "Resolving storage.googleapis.com (storage.googleapis.com)... 74.125.31.128, 74.125.28.128, 74.125.134.128, ...\n",
            "Connecting to storage.googleapis.com (storage.googleapis.com)|74.125.31.128|:443... connected.\n",
            "HTTP request sent, awaiting response... 200 OK\n",
            "Length: 168546183 (161M) [application/zip]\n",
            "Saving to: ‘10_food_classes_10_percent.zip.1’\n",
            "\n",
            "10_food_classes_10_ 100%[===================>] 160.74M   218MB/s    in 0.7s    \n",
            "\n",
            "2022-12-01 17:01:22 (218 MB/s) - ‘10_food_classes_10_percent.zip.1’ saved [168546183/168546183]\n",
            "\n"
          ]
        }
      ],
      "source": [
        "# get data (10$ if 10 food class)\n",
        "import zipfile\n",
        "!wget https://storage.googleapis.com/ztm_tf_course/food_vision/10_food_classes_10_percent.zip\n",
        "zip_ref=zipfile.ZipFile(\"10_food_classes_10_percent.zip\")\n",
        "zip_ref.extractall()\n",
        "zip_ref.close()"
      ]
    },
    {
      "cell_type": "code",
      "execution_count": null,
      "metadata": {
        "colab": {
          "base_uri": "https://localhost:8080/"
        },
        "id": "U8YkLFOOer2n",
        "outputId": "e5d585f2-33be-4f0a-ef1f-2e22792adda7"
      },
      "outputs": [
        {
          "name": "stdout",
          "output_type": "stream",
          "text": [
            "there are 2 directories and 0 images in '10_food_classes_10_percent'\n",
            "there are 10 directories and 0 images in '10_food_classes_10_percent/train'\n",
            "there are 0 directories and 75 images in '10_food_classes_10_percent/train/ramen'\n",
            "there are 0 directories and 75 images in '10_food_classes_10_percent/train/sushi'\n",
            "there are 0 directories and 75 images in '10_food_classes_10_percent/train/ice_cream'\n",
            "there are 0 directories and 75 images in '10_food_classes_10_percent/train/chicken_curry'\n",
            "there are 0 directories and 75 images in '10_food_classes_10_percent/train/hamburger'\n",
            "there are 0 directories and 75 images in '10_food_classes_10_percent/train/steak'\n",
            "there are 0 directories and 75 images in '10_food_classes_10_percent/train/grilled_salmon'\n",
            "there are 0 directories and 75 images in '10_food_classes_10_percent/train/chicken_wings'\n",
            "there are 0 directories and 75 images in '10_food_classes_10_percent/train/pizza'\n",
            "there are 0 directories and 75 images in '10_food_classes_10_percent/train/fried_rice'\n",
            "there are 10 directories and 0 images in '10_food_classes_10_percent/test'\n",
            "there are 0 directories and 250 images in '10_food_classes_10_percent/test/ramen'\n",
            "there are 0 directories and 250 images in '10_food_classes_10_percent/test/sushi'\n",
            "there are 0 directories and 250 images in '10_food_classes_10_percent/test/ice_cream'\n",
            "there are 0 directories and 250 images in '10_food_classes_10_percent/test/chicken_curry'\n",
            "there are 0 directories and 250 images in '10_food_classes_10_percent/test/hamburger'\n",
            "there are 0 directories and 250 images in '10_food_classes_10_percent/test/steak'\n",
            "there are 0 directories and 250 images in '10_food_classes_10_percent/test/grilled_salmon'\n",
            "there are 0 directories and 250 images in '10_food_classes_10_percent/test/chicken_wings'\n",
            "there are 0 directories and 250 images in '10_food_classes_10_percent/test/pizza'\n",
            "there are 0 directories and 250 images in '10_food_classes_10_percent/test/fried_rice'\n"
          ]
        }
      ],
      "source": [
        "import os\n",
        "for dirpath,dirname,filenames in os.walk(\"10_food_classes_10_percent\"):\n",
        "  print(f\"there are {len(dirname)} directories and {len(filenames)} images in '{dirpath}'\")"
      ]
    },
    {
      "cell_type": "markdown",
      "metadata": {
        "id": "8TuFu6LZfX1r"
      },
      "source": [
        "## Creating loader()\n",
        "we will use `ImageDataGenerator` class to load in our images in batches"
      ]
    },
    {
      "cell_type": "code",
      "execution_count": null,
      "metadata": {
        "colab": {
          "base_uri": "https://localhost:8080/"
        },
        "id": "K5AmzravgXDk",
        "outputId": "97f66908-22e0-4044-de05-2b0102b1ec89"
      },
      "outputs": [
        {
          "name": "stdout",
          "output_type": "stream",
          "text": [
            "Found 750 images belonging to 10 classes.\n",
            "testing images:\n",
            "Found 2500 images belonging to 10 classes.\n"
          ]
        }
      ],
      "source": [
        "from tensorflow.keras.preprocessing.image import ImageDataGenerator\n",
        "\n",
        "IMAGE_SHAPE=(224,224)\n",
        "BATCH_SIZE=32\n",
        "train_dir=\"10_food_classes_10_percent/train/\"\n",
        "test_dir=\"10_food_classes_10_percent/test/\"\n",
        "\n",
        "train_datagen=ImageDataGenerator(rescale=1/255)\n",
        "test_datagen=ImageDataGenerator(rescale=1/255)\n",
        "\n",
        "\n",
        "train_data=train_datagen.flow_from_directory(train_dir,\n",
        "                                 target_size=IMAGE_SHAPE,\n",
        "                                 batch_size=BATCH_SIZE,\n",
        "                                 class_mode=\"categorical\")\n",
        "\n",
        "print(\"testing images:\")\n",
        "test_data=test_datagen.flow_from_directory(test_dir,\n",
        "                                           target_size=IMAGE_SHAPE,\n",
        "                                           batch_size=BATCH_SIZE,\n",
        "                                           class_mode='categorical')"
      ]
    },
    {
      "cell_type": "markdown",
      "metadata": {
        "id": "qMVP6X7xjaTk"
      },
      "source": [
        "## Setting Up callback 🔙(things to run while our model trains)\n",
        "\n",
        "callback are extra functionality we can add to our models to performed during or after training .some of the most popular callbacks:\n",
        "\n",
        "* Experiment tracking with TensorBoard - log the performance of multiple models and then view and compare these models in a visual way on TensorBoard (a dashboard for inspecting neural network parameters). Helpful to compare the results of different models on your data.\n",
        "\n",
        "\n",
        "* Model checkpointing - save your model as it trains so you can stop training if needed and come back to continue off where you left. Helpful if training takes a long time and can't be done in one sitting.\n",
        "\n",
        "\n",
        "* Early stopping - leave your model training for an arbitrary amount of time and have it stop training automatically when it ceases to improve. Helpful when you've got a large dataset and don't know how long training will take."
      ]
    },
    {
      "cell_type": "code",
      "execution_count": null,
      "metadata": {
        "id": "1qAaY2KAnNZg"
      },
      "outputs": [],
      "source": [
        "# create TensorBoard callback (functionized because we need to create a new model)\n",
        "import datetime\n",
        "import tensorflow as tf\n",
        "def create_tensorboard_callback(dir_name,experiment_name):\n",
        "  log_dir=dir_name+'/'+experiment_name+\"/\"+datetime.datetime.now().strftime(\"%Y%m%d-%H%M%S\")\n",
        "  tensorboard_callback=tf.keras.callbacks.TensorBoard(log_dir=log_dir)\n",
        "  print(f\"saving tfboard log file to{log_dir}\")\n",
        "  return  tensorboard_callback"
      ]
    },
    {
      "cell_type": "markdown",
      "metadata": {
        "id": "8-r2-wifcw9P"
      },
      "source": [
        "## Create models using TesnsorFlow Hub⚜"
      ]
    },
    {
      "cell_type": "code",
      "execution_count": null,
      "metadata": {
        "id": "wAziy_nanBR1"
      },
      "outputs": [],
      "source": [
        "# Resnet 50 V2 feature vector\n",
        "resnet_url = \"https://tfhub.dev/google/imagenet/resnet_v2_50/feature_vector/4\"\n",
        "\n",
        "# Original: EfficientNetB0 feature vector (version 1)\n",
        "efficientnet_url = \"https://tfhub.dev/tensorflow/efficientnet/b0/feature-vector/1\"\n",
        "\n",
        "# # New: EfficientNetB0 feature vector (version 2)\n",
        "# efficientnet_url = \"https://tfhub.dev/google/imagenet/efficien"
      ]
    },
    {
      "cell_type": "code",
      "execution_count": null,
      "metadata": {
        "id": "ZlfhmYviojs8"
      },
      "outputs": [],
      "source": [
        "import tensorflow as tf\n",
        "import tensorflow_hub as hub\n",
        "from tensorflow.keras import layers\n",
        "# lets make a creat_model() function to create a model from a URL\n",
        "def create_model(model_url, num_classes=10):\n",
        "  \"\"\"Takes a TensorFlow Hub URL and creates a Keras Sequential model with it.\n",
        "  \n",
        "  Args:\n",
        "    model_url (str): A TensorFlow Hub feature extraction URL.\n",
        "    num_classes (int): Number of output neurons in output layer,\n",
        "      should be equal to number of target classes, default 10.\n",
        "\n",
        "  Returns:\n",
        "    An uncompiled Keras Sequential model with model_url as feature\n",
        "    extractor layer and Dense output layer with num_classes outputs.\n",
        "  \"\"\"\n",
        "  # Download the pretrained model and save it as a Keras layer\n",
        "  feature_extractor_layer = hub.KerasLayer(model_url,\n",
        "                                           trainable=False, # freeze the underlying patterns\n",
        "                                           name='feature_extraction_layer',\n",
        "                                           input_shape=IMAGE_SHAPE+(3,)) # define the input image shape\n",
        "  \n",
        "  # Create our own model\n",
        "  model = tf.keras.Sequential([\n",
        "    feature_extractor_layer, # use the feature extraction layer as the base\n",
        "    layers.Dense(num_classes, activation='softmax', name='output_layer') # create our own output layer      \n",
        "  ])\n",
        "  print(num_classes)\n",
        "\n",
        "  return model\n",
        "  "
      ]
    },
    {
      "cell_type": "markdown",
      "metadata": {
        "id": "yV1dxdim-p3g"
      },
      "source": [
        "> creating and testing ResNet tensorflow Hub feature extraction\n"
      ]
    },
    {
      "cell_type": "code",
      "execution_count": null,
      "metadata": {
        "colab": {
          "base_uri": "https://localhost:8080/"
        },
        "id": "j6_LkOsQ-4Ej",
        "outputId": "7e898daf-f8f4-44b7-e685-68646214cc05"
      },
      "outputs": [
        {
          "name": "stdout",
          "output_type": "stream",
          "text": [
            "10\n"
          ]
        }
      ],
      "source": [
        "resnet_model=create_model(resnet_url,\n",
        "                          num_classes=train_data.num_classes)"
      ]
    },
    {
      "cell_type": "code",
      "execution_count": null,
      "metadata": {
        "colab": {
          "base_uri": "https://localhost:8080/"
        },
        "id": "dfUvHRE_cEZM",
        "outputId": "c8fde37b-fca1-49aa-a900-8bf37b7d55ed"
      },
      "outputs": [
        {
          "name": "stdout",
          "output_type": "stream",
          "text": [
            "Model: \"sequential\"\n",
            "_________________________________________________________________\n",
            " Layer (type)                Output Shape              Param #   \n",
            "=================================================================\n",
            " feature_extraction_layer (K  (None, 2048)             23564800  \n",
            " erasLayer)                                                      \n",
            "                                                                 \n",
            " output_layer (Dense)        (None, 10)                20490     \n",
            "                                                                 \n",
            "=================================================================\n",
            "Total params: 23,585,290\n",
            "Trainable params: 20,490\n",
            "Non-trainable params: 23,564,800\n",
            "_________________________________________________________________\n"
          ]
        }
      ],
      "source": [
        "resnet_model.summary()"
      ]
    },
    {
      "cell_type": "code",
      "execution_count": null,
      "metadata": {
        "id": "f7dIXu0t_UO2"
      },
      "outputs": [],
      "source": [
        "resnet_model.compile(loss='categorical_crossentropy',\n",
        "                     optimizer=tf.keras.optimizers.Adam(),\n",
        "                     metrics=[\"accuracy\"])"
      ]
    },
    {
      "cell_type": "code",
      "execution_count": null,
      "metadata": {
        "colab": {
          "base_uri": "https://localhost:8080/"
        },
        "id": "iTRmvbWldCD1",
        "outputId": "a744b96a-c807-4ec1-fd74-e6152cd4ec44"
      },
      "outputs": [
        {
          "name": "stdout",
          "output_type": "stream",
          "text": [
            "saving tfboard log file totensorflow_hub/resnet50v2/20221201-170130\n",
            "Epoch 1/5\n",
            "24/24 [==============================] - 29s 751ms/step - loss: 1.7832 - accuracy: 0.4067 - val_loss: 1.1307 - val_accuracy: 0.6392\n",
            "Epoch 2/5\n",
            "24/24 [==============================] - 16s 681ms/step - loss: 0.8648 - accuracy: 0.7373 - val_loss: 0.8178 - val_accuracy: 0.7356\n",
            "Epoch 3/5\n",
            "24/24 [==============================] - 16s 677ms/step - loss: 0.5918 - accuracy: 0.8427 - val_loss: 0.7254 - val_accuracy: 0.7664\n",
            "Epoch 4/5\n",
            "24/24 [==============================] - 16s 676ms/step - loss: 0.4642 - accuracy: 0.8827 - val_loss: 0.6953 - val_accuracy: 0.7736\n",
            "Epoch 5/5\n",
            "24/24 [==============================] - 16s 683ms/step - loss: 0.3670 - accuracy: 0.9173 - val_loss: 0.6563 - val_accuracy: 0.7816\n"
          ]
        }
      ],
      "source": [
        "resnet_history=resnet_model.fit(train_data,\n",
        "                                epochs=5,\n",
        "                                steps_per_epoch=len(train_data),\n",
        "                                validation_data=test_data,\n",
        "                                validation_steps=len(test_data),\n",
        "                                callbacks=[create_tensorboard_callback(dir_name=\"tensorflow_hub\",\n",
        "                                                                       experiment_name=\"resnet50v2\")]\n",
        "                                \n",
        "                 )"
      ]
    },
    {
      "cell_type": "markdown",
      "metadata": {
        "id": "cs31ReCCo0Dq"
      },
      "source": [
        ">Great!!"
      ]
    },
    {
      "cell_type": "code",
      "execution_count": null,
      "metadata": {
        "id": "QJ0zjC6Mo3Sx"
      },
      "outputs": [],
      "source": [
        "import matplotlib.pyplot as plt\n",
        " \n",
        "def plot_loss_curve(history):\n",
        "   loss=history.history['loss']\n",
        "   val_loss=history.history['val_loss']\n",
        "\n",
        "   \n",
        "   accuracy=history.history['accuracy']\n",
        "   val_accuracy=history.history['val_accuracy']\n",
        "\n",
        "   epochs=range(len(history.history['loss']))\n",
        "\n",
        "   plt.plot(epochs,loss,label=\"training loss\")\n",
        "   plt.plot(epochs,val_loss,label=\"val_loss\")\n",
        "   plt.title(\"loss\")\n",
        "   plt.xlabel(\"epochs\")\n",
        "   plt.legend()\n",
        "   \n",
        "   plt.figure()\n",
        "   plt.plot(epochs,accuracy,label=\"training_accuracy\")\n",
        "   plt.plot(epochs,val_accuracy,label=\"val_accuracu\")\n",
        "   plt.title(\"accuracy\")\n",
        "   plt.xlabel(\"epochs\")\n",
        "   plt.legend()"
      ]
    },
    {
      "cell_type": "code",
      "execution_count": null,
      "metadata": {
        "colab": {
          "base_uri": "https://localhost:8080/",
          "height": 573
        },
        "id": "VKbUOjDVqomm",
        "outputId": "5e3565c4-c868-433e-953d-21ed1ee63d8d"
      },
      "outputs": [
        {
          "data": {
            "image/png": "[encoded data removed]",
            "text/plain": [
              "<Figure size 432x288 with 1 Axes>"
            ]
          },
          "metadata": {},
          "output_type": "display_data"
        },
        {
          "data": {
            "image/png": "[encoded data removed]",
            "text/plain": [
              "<Figure size 432x288 with 1 Axes>"
            ]
          },
          "metadata": {},
          "output_type": "display_data"
        }
      ],
      "source": [
        "plot_loss_curve(resnet_history)"
      ]
    },
    {
      "cell_type": "markdown",
      "metadata": {
        "id": "BcedVbegAmpC"
      },
      "source": [
        "## Creating and testing EfficientNetB0 Tesnsorflow Hub features Extraction model"
      ]
    },
    {
      "cell_type": "code",
      "execution_count": null,
      "metadata": {
        "colab": {
          "base_uri": "https://localhost:8080/"
        },
        "id": "qg-4qTF8AjaF",
        "outputId": "9cdbae9b-eb94-4c8a-d56e-57d132f0ae15"
      },
      "outputs": [
        {
          "name": "stdout",
          "output_type": "stream",
          "text": [
            "10\n",
            "saving tfboard log file totensorflow_hub/efficientnetb0/20221201-170312\n",
            "Epoch 1/5\n",
            "24/24 [==============================] - 25s 719ms/step - loss: 1.8361 - accuracy: 0.4613 - val_loss: 1.2859 - val_accuracy: 0.7348\n",
            "Epoch 2/5\n",
            "24/24 [==============================] - 15s 648ms/step - loss: 1.0510 - accuracy: 0.7693 - val_loss: 0.8622 - val_accuracy: 0.8216\n",
            "Epoch 3/5\n",
            "24/24 [==============================] - 15s 642ms/step - loss: 0.7519 - accuracy: 0.8267 - val_loss: 0.6961 - val_accuracy: 0.8440\n",
            "Epoch 4/5\n",
            "24/24 [==============================] - 16s 682ms/step - loss: 0.6003 - accuracy: 0.8600 - val_loss: 0.6087 - val_accuracy: 0.8556\n",
            "Epoch 5/5\n",
            "24/24 [==============================] - 15s 642ms/step - loss: 0.5084 - accuracy: 0.8840 - val_loss: 0.5568 - val_accuracy: 0.8616\n"
          ]
        }
      ],
      "source": [
        "# create \n",
        "effnet_model=create_model(model_url=efficientnet_url)\n",
        "effnet_model.compile(loss=\"categorical_crossentropy\",\n",
        "                     optimizer=tf.keras.optimizers.Adam(),\n",
        "                     metrics=['accuracy'])\n",
        "\n",
        "# fitting\n",
        "effnet_history=effnet_model.fit(train_data,\n",
        "                                epochs=5, \n",
        "                                steps_per_epoch=len(train_data),\n",
        "                                validation_data=test_data,\n",
        "                                validation_steps=len(test_data),\n",
        "                                callbacks=[create_tensorboard_callback(dir_name=\"tensorflow_hub\",\n",
        "                                                                       experiment_name=\"efficientnetb0\")])"
      ]
    },
    {
      "cell_type": "code",
      "execution_count": null,
      "metadata": {
        "colab": {
          "base_uri": "https://localhost:8080/",
          "height": 573
        },
        "id": "QCWmBKIXK531",
        "outputId": "48c65900-6569-4ab8-dd77-fe7df9fd44e1"
      },
      "outputs": [
        {
          "data": {
            "image/png": "[encoded data removed]",
            "text/plain": [
              "<Figure size 432x288 with 1 Axes>"
            ]
          },
          "metadata": {},
          "output_type": "display_data"
        },
        {
          "data": {
            "image/png": "[encoded data removed]",
            "text/plain": [
              "<Figure size 432x288 with 1 Axes>"
            ]
          },
          "metadata": {},
          "output_type": "display_data"
        }
      ],
      "source": [
        "plot_loss_curve(effnet_history)"
      ]
    },
    {
      "cell_type": "code",
      "execution_count": null,
      "metadata": {
        "colab": {
          "base_uri": "https://localhost:8080/"
        },
        "id": "5gARo-7O-_Th",
        "outputId": "8153463c-fb5f-40d0-9948-838202660a42"
      },
      "outputs": [
        {
          "name": "stdout",
          "output_type": "stream",
          "text": [
            "Model: \"sequential_1\"\n",
            "_________________________________________________________________\n",
            " Layer (type)                Output Shape              Param #   \n",
            "=================================================================\n",
            " feature_extraction_layer (K  (None, 1280)             4049564   \n",
            " erasLayer)                                                      \n",
            "                                                                 \n",
            " output_layer (Dense)        (None, 10)                12810     \n",
            "                                                                 \n",
            "=================================================================\n",
            "Total params: 4,062,374\n",
            "Trainable params: 12,810\n",
            "Non-trainable params: 4,049,564\n",
            "_________________________________________________________________\n"
          ]
        }
      ],
      "source": [
        "effnet_model.summary()"
      ]
    },
    {
      "cell_type": "markdown",
      "metadata": {
        "id": "dtGo-Jp4BpC-"
      },
      "source": [
        " ## Different types of transfer learning\n",
        "\n",
        "* **\"As is\"** transfer learning - using an existing model with no changes what so ever (e.g using ImageNet model on 1000 ImageNet classes, none of your own)\n",
        "\n",
        "* **\"Feature extraction\"** transfer learning use the - prelearned patterns of an existing model (e.g. EfficientNetBO trained on ImageNet) and adjust the output layer for your own problem (e.g. 1000 classes -> 10 classes of food)\n",
        "\n",
        "* **\"Fine-tuning\"** transfer learning - use the prelearned patterns of an existing model and \"fine-tune\" many or all of the underlying layers (including new output layers)"
      ]
    },
    {
      "cell_type": "code",
      "execution_count": null,
      "metadata": {
        "colab": {
          "base_uri": "https://localhost:8080/"
        },
        "id": "bvEeZNdFCuao",
        "outputId": "b72e8e72-3ed1-4d64-84e7-7fb3c0c49bbb"
      },
      "outputs": [
        {
          "data": {
            "text/plain": [
              "[<tf.Variable 'output_layer/kernel:0' shape=(1280, 10) dtype=float32, numpy=\n",
              " array([[-0.04778928, -0.00419774, -0.01552546, ..., -0.07450657,\n",
              "         -0.00170591,  0.09713405],\n",
              "        [-0.06928349, -0.05592213, -0.07335948, ...,  0.02785963,\n",
              "         -0.09547085,  0.08497567],\n",
              "        [ 0.02000956,  0.06455106, -0.01654305, ..., -0.01149131,\n",
              "          0.02778693, -0.01930211],\n",
              "        ...,\n",
              "        [-0.07922643,  0.01279085, -0.06242396, ..., -0.00555097,\n",
              "          0.0016941 ,  0.07176522],\n",
              "        [ 0.03709626, -0.05984984, -0.09959546, ..., -0.04566087,\n",
              "         -0.02288849,  0.09246288],\n",
              "        [-0.0545143 , -0.02273036,  0.05867558, ...,  0.01255981,\n",
              "          0.05109119,  0.08120409]], dtype=float32)>,\n",
              " <tf.Variable 'output_layer/bias:0' shape=(10,) dtype=float32, numpy=\n",
              " array([-0.00115412, -0.00704123,  0.00789076, -0.00720523,  0.0074004 ,\n",
              "         0.00537948,  0.01042173,  0.00554325, -0.01323877, -0.0122742 ],\n",
              "       dtype=float32)>]"
            ]
          },
          "execution_count": 21,
          "metadata": {},
          "output_type": "execute_result"
        }
      ],
      "source": [
        "effnet_model.layers[1].weights\n",
        "  "
      ]
    },
    {
      "cell_type": "markdown",
      "metadata": {
        "id": "x-neZ1LecPR_"
      },
      "source": [
        "## Comparing our models results using TensorBoard \n",
        ">🔑 **Note**: When you upload things to TensorBoard.dev, you experiments are public. So if you're running private experiments (things you don't want others to see) do not upload them to TensorBoard.dev."
      ]
    },
    {
      "cell_type": "code",
      "execution_count": 26,
      "metadata": {
        "id": "znaxErB3c6UY"
      },
      "outputs": [],
      "source": [
        "# # upload TensorBoard dev records\n",
        "# ! tensorboard dev upload --logdir ./tensorflow_hub/ \\\n",
        "# --name \"EfficientNetbB0 VS. ResNet50V2\"\\\n",
        "# --description \"comparing two differenty TF hub features extraction model architecture\" \\\n",
        "# --one_shot"
      ]
    },
    {
      "cell_type": "markdown",
      "source": [
        "our experiments are uploaded here: https://tensorboard.dev/experiment/RC5nwoAiRDqKSrhOZiQ1BQ/"
      ],
      "metadata": {
        "id": "mqoaiIoRtKvH"
      }
    },
    {
      "cell_type": "code",
      "source": [
        "!tensorboard dev list"
      ],
      "metadata": {
        "colab": {
          "base_uri": "https://localhost:8080/"
        },
        "id": "MNMdT_EwuP0c",
        "outputId": "e130b96c-b97d-4212-9076-839ec6e3562a"
      },
      "execution_count": 27,
      "outputs": [
        {
          "output_type": "stream",
          "name": "stdout",
          "text": [
            "https://tensorboard.dev/experiment/RC5nwoAiRDqKSrhOZiQ1BQ/\n",
            "\tName                 EfficientNetbB0 VS. ResNet50V2\n",
            "\tDescription          comparing two differenty TF hub features extraction model architecture\n",
            "\tId                   RC5nwoAiRDqKSrhOZiQ1BQ\n",
            "\tCreated              2022-12-01 17:20:21 (5 minutes ago)\n",
            "\tUpdated              2022-12-01 17:20:23 (5 minutes ago)\n",
            "\tRuns                 4\n",
            "\tTags                 5\n",
            "\tScalars              60\n",
            "\tTensor bytes         0\n",
            "\tBinary object bytes  5918466\n",
            "https://tensorboard.dev/experiment/w6Js7os3RTmVLU7BhXY8gw/\n",
            "\tName                 EfficientNetbB0 VS. ResNet50V2\n",
            "\tDescription          comparing two differenty TF hub features extraction model architecture\n",
            "\tId                   w6Js7os3RTmVLU7BhXY8gw\n",
            "\tCreated              2022-12-01 17:08:13 (17 minutes ago)\n",
            "\tUpdated              2022-12-01 17:08:15 (17 minutes ago)\n",
            "\tRuns                 4\n",
            "\tTags                 5\n",
            "\tScalars              60\n",
            "\tTensor bytes         0\n",
            "\tBinary object bytes  5918466\n",
            "https://tensorboard.dev/experiment/I7xL8lJiRY2QYKrqje40oA/\n",
            "\tName                 EfficientNetbB0 VS. ResNet50V2\n",
            "\tDescription          comparing two different TF hub features extraction model architecture\n",
            "\tId                   I7xL8lJiRY2QYKrqje40oA\n",
            "\tCreated              2022-12-01 16:52:25 (33 minutes ago)\n",
            "\tUpdated              2022-12-01 16:52:25 (33 minutes ago)\n",
            "\tRuns                 0\n",
            "\tTags                 0\n",
            "\tScalars              0\n",
            "\tTensor bytes         0\n",
            "\tBinary object bytes  0\n",
            "Total: 3 experiment(s)\n"
          ]
        }
      ]
    },
    {
      "cell_type": "code",
      "source": [
        "# to delete an experiment \n",
        "#  !tensorboard dev delete -- experiment_id"
      ],
      "metadata": {
        "id": "ewAGDItqueA6"
      },
      "execution_count": null,
      "outputs": []
    },
    {
      "cell_type": "markdown",
      "source": [
        "# **Fine-Tuning🌻**\n"
      ],
      "metadata": {
        "id": "qs3inHo0vHEV"
      }
    }
  ],
  "metadata": {
    "accelerator": "GPU",
    "colab": {
      "provenance": [],
      "toc_visible": true,
      "authorship_tag": "ABX9TyPJRFlUNlrUruQfdJ1+n+2p",
      "include_colab_link": true
    },
    "gpuClass": "standard",
    "kernelspec": {
      "display_name": "Python 3",
      "name": "python3"
    },
    "language_info": {
      "name": "python"
    }
  },
  "nbformat": 4,
  "nbformat_minor": 0
}