{
  "nbformat": 4,
  "nbformat_minor": 0,
  "metadata": {
    "colab": {
      "provenance": [],
      "authorship_tag": "ABX9TyOJe+A7G2TMlBwfajVHTJxf",
      "include_colab_link": true
    },
    "kernelspec": {
      "name": "python3",
      "display_name": "Python 3"
    },
    "language_info": {
      "name": "python"
    },
    "accelerator": "GPU",
    "gpuClass": "standard"
  },
  "cells": [
    {
      "cell_type": "markdown",
      "metadata": {
        "id": "view-in-github",
        "colab_type": "text"
      },
      "source": [
        "<a href=\"https://colab.research.google.com/github/Henil21/Intro_to_computer_vision_and_CNN/blob/main/Transfer_learning_Part_1.ipynb\" target=\"_parent\"><img src=\"https://colab.research.google.com/assets/colab-badge.svg\" alt=\"Open In Colab\"/></a>"
      ]
    },
    {
      "cell_type": "markdown",
      "source": [
        "There are two main benefits to using transfer learning:\n",
        "\n",
        "1. Can leverage an existing neural network architecture proven to work on problems similar to our own.\n",
        "\n",
        "\n",
        "2. Can leverage a working neural network architecture which has already learned patterns on similar data to our own. This often results in achieving great results with less custom data."
      ],
      "metadata": {
        "id": "rReQdhwad9sr"
      }
    },
    {
      "cell_type": "code",
      "execution_count": 1,
      "metadata": {
        "colab": {
          "base_uri": "https://localhost:8080/"
        },
        "id": "X2EXu5x2aaUl",
        "outputId": "bac44379-10ea-4b5e-def2-d8b56a7527d5"
      },
      "outputs": [
        {
          "output_type": "stream",
          "name": "stdout",
          "text": [
            "Fri Nov 25 04:03:58 2022       \n",
            "+-----------------------------------------------------------------------------+\n",
            "| NVIDIA-SMI 460.32.03    Driver Version: 460.32.03    CUDA Version: 11.2     |\n",
            "|-------------------------------+----------------------+----------------------+\n",
            "| GPU  Name        Persistence-M| Bus-Id        Disp.A | Volatile Uncorr. ECC |\n",
            "| Fan  Temp  Perf  Pwr:Usage/Cap|         Memory-Usage | GPU-Util  Compute M. |\n",
            "|                               |                      |               MIG M. |\n",
            "|===============================+======================+======================|\n",
            "|   0  Tesla T4            Off  | 00000000:00:04.0 Off |                    0 |\n",
            "| N/A   70C    P8    10W /  70W |      0MiB / 15109MiB |      0%      Default |\n",
            "|                               |                      |                  N/A |\n",
            "+-------------------------------+----------------------+----------------------+\n",
            "                                                                               \n",
            "+-----------------------------------------------------------------------------+\n",
            "| Processes:                                                                  |\n",
            "|  GPU   GI   CI        PID   Type   Process name                  GPU Memory |\n",
            "|        ID   ID                                                   Usage      |\n",
            "|=============================================================================|\n",
            "|  No running processes found                                                 |\n",
            "+-----------------------------------------------------------------------------+\n"
          ]
        }
      ],
      "source": [
        "# lets check we are using gpu or not\n",
        "!nvidia-smi"
      ]
    },
    {
      "cell_type": "code",
      "source": [
        "# get data (10$ if 10 food class)\n",
        "import zipfile\n",
        "!wget https://storage.googleapis.com/ztm_tf_course/food_vision/10_food_classes_10_percent.zip\n",
        "zip_ref=zipfile.ZipFile(\"10_food_classes_10_percent.zip\")\n",
        "zip_ref.extractall()\n",
        "zip_ref.close()"
      ],
      "metadata": {
        "colab": {
          "base_uri": "https://localhost:8080/"
        },
        "id": "iaR1LLcheMlE",
        "outputId": "7dada881-b596-43f6-d7cd-c725607ffdee"
      },
      "execution_count": 2,
      "outputs": [
        {
          "output_type": "stream",
          "name": "stdout",
          "text": [
            "--2022-11-25 04:03:59--  https://storage.googleapis.com/ztm_tf_course/food_vision/10_food_classes_10_percent.zip\n",
            "Resolving storage.googleapis.com (storage.googleapis.com)... 173.194.194.128, 173.194.195.128, 173.194.196.128, ...\n",
            "Connecting to storage.googleapis.com (storage.googleapis.com)|173.194.194.128|:443... connected.\n",
            "HTTP request sent, awaiting response... 200 OK\n",
            "Length: 168546183 (161M) [application/zip]\n",
            "Saving to: ‘10_food_classes_10_percent.zip’\n",
            "\n",
            "10_food_classes_10_ 100%[===================>] 160.74M   128MB/s    in 1.3s    \n",
            "\n",
            "2022-11-25 04:04:00 (128 MB/s) - ‘10_food_classes_10_percent.zip’ saved [168546183/168546183]\n",
            "\n"
          ]
        }
      ]
    },
    {
      "cell_type": "code",
      "source": [
        "import os\n",
        "for dirpath,dirname,filenames in os.walk(\"10_food_classes_10_percent\"):\n",
        "  print(f\"there are {len(dirname)} directories and {len(filenames)} images in '{dirpath}'\")"
      ],
      "metadata": {
        "colab": {
          "base_uri": "https://localhost:8080/"
        },
        "id": "U8YkLFOOer2n",
        "outputId": "ebea265d-33c7-44ef-cbf5-27b28b0f09ae"
      },
      "execution_count": 3,
      "outputs": [
        {
          "output_type": "stream",
          "name": "stdout",
          "text": [
            "there are 2 directories and 0 images in '10_food_classes_10_percent'\n",
            "there are 10 directories and 0 images in '10_food_classes_10_percent/train'\n",
            "there are 0 directories and 75 images in '10_food_classes_10_percent/train/steak'\n",
            "there are 0 directories and 75 images in '10_food_classes_10_percent/train/chicken_wings'\n",
            "there are 0 directories and 75 images in '10_food_classes_10_percent/train/ice_cream'\n",
            "there are 0 directories and 75 images in '10_food_classes_10_percent/train/grilled_salmon'\n",
            "there are 0 directories and 75 images in '10_food_classes_10_percent/train/pizza'\n",
            "there are 0 directories and 75 images in '10_food_classes_10_percent/train/sushi'\n",
            "there are 0 directories and 75 images in '10_food_classes_10_percent/train/hamburger'\n",
            "there are 0 directories and 75 images in '10_food_classes_10_percent/train/chicken_curry'\n",
            "there are 0 directories and 75 images in '10_food_classes_10_percent/train/ramen'\n",
            "there are 0 directories and 75 images in '10_food_classes_10_percent/train/fried_rice'\n",
            "there are 10 directories and 0 images in '10_food_classes_10_percent/test'\n",
            "there are 0 directories and 250 images in '10_food_classes_10_percent/test/steak'\n",
            "there are 0 directories and 250 images in '10_food_classes_10_percent/test/chicken_wings'\n",
            "there are 0 directories and 250 images in '10_food_classes_10_percent/test/ice_cream'\n",
            "there are 0 directories and 250 images in '10_food_classes_10_percent/test/grilled_salmon'\n",
            "there are 0 directories and 250 images in '10_food_classes_10_percent/test/pizza'\n",
            "there are 0 directories and 250 images in '10_food_classes_10_percent/test/sushi'\n",
            "there are 0 directories and 250 images in '10_food_classes_10_percent/test/hamburger'\n",
            "there are 0 directories and 250 images in '10_food_classes_10_percent/test/chicken_curry'\n",
            "there are 0 directories and 250 images in '10_food_classes_10_percent/test/ramen'\n",
            "there are 0 directories and 250 images in '10_food_classes_10_percent/test/fried_rice'\n"
          ]
        }
      ]
    },
    {
      "cell_type": "markdown",
      "source": [
        "## Creating loader()\n",
        "we will use `ImageDataGenerator` class to load in our images in batches"
      ],
      "metadata": {
        "id": "8TuFu6LZfX1r"
      }
    },
    {
      "cell_type": "code",
      "source": [
        "from tensorflow.keras.preprocessing.image import ImageDataGenerator\n",
        "\n",
        "IMAGE_SHAPE=(224,224)\n",
        "BATCH_SIZE=32\n",
        "train_dir=\"10_food_classes_10_percent/train/\"\n",
        "test_dir=\"10_food_classes_10_percent/test/\"\n",
        "\n",
        "train_datagen=ImageDataGenerator(rescale=1/255)\n",
        "test_datagen=ImageDataGenerator(rescale=1/255)\n",
        "\n",
        "\n",
        "train_data=train_datagen.flow_from_directory(train_dir,\n",
        "                                 target_size=IMAGE_SHAPE,\n",
        "                                 batch_size=BATCH_SIZE,\n",
        "                                 class_mode=\"categorical\")\n",
        "\n",
        "print(\"testing images:\")\n",
        "test_data=test_datagen.flow_from_directory(test_dir,\n",
        "                                           target_size=IMAGE_SHAPE,\n",
        "                                           batch_size=BATCH_SIZE,\n",
        "                                           class_mode='categorical')"
      ],
      "metadata": {
        "colab": {
          "base_uri": "https://localhost:8080/"
        },
        "id": "K5AmzravgXDk",
        "outputId": "a38d2030-8446-4dee-cf8e-141d2b723fec"
      },
      "execution_count": 4,
      "outputs": [
        {
          "output_type": "stream",
          "name": "stdout",
          "text": [
            "Found 750 images belonging to 10 classes.\n",
            "testing images:\n",
            "Found 2500 images belonging to 10 classes.\n"
          ]
        }
      ]
    },
    {
      "cell_type": "markdown",
      "source": [
        "## Setting Up callback 🔙(things to run while our model trains)\n",
        "\n",
        "callback are extra functionality we can add to our models to performed during or after training .some of the most popular callbacks:\n",
        "\n",
        "* Experiment tracking with TensorBoard - log the performance of multiple models and then view and compare these models in a visual way on TensorBoard (a dashboard for inspecting neural network parameters). Helpful to compare the results of different models on your data.\n",
        "\n",
        "\n",
        "* Model checkpointing - save your model as it trains so you can stop training if needed and come back to continue off where you left. Helpful if training takes a long time and can't be done in one sitting.\n",
        "\n",
        "\n",
        "* Early stopping - leave your model training for an arbitrary amount of time and have it stop training automatically when it ceases to improve. Helpful when you've got a large dataset and don't know how long training will take."
      ],
      "metadata": {
        "id": "qMVP6X7xjaTk"
      }
    },
    {
      "cell_type": "code",
      "source": [
        "# create TensorBoard callback (functionized because we need to create a new model)\n",
        "import datetime\n",
        "import tensorflow as tf\n",
        "def create_tensorboard_callback(dir_name,experiment_name):\n",
        "  log_dir=dir_name+'/'+experiment_name+\"/\"+datetime.datetime.now().strftime(\"%Y%m%d-%H%M%S\")\n",
        "  tensorboard_callback=tf.keras.callbacks.TensorBoard(log_dir=log_dir)\n",
        "  print(f\"saving tfboard log file to{log_dir}\")\n",
        "  return  tensorboard_callback"
      ],
      "metadata": {
        "id": "1qAaY2KAnNZg"
      },
      "execution_count": 5,
      "outputs": []
    },
    {
      "cell_type": "markdown",
      "source": [
        "## Create models using TesnsorFlow Hub⚜"
      ],
      "metadata": {
        "id": "8-r2-wifcw9P"
      }
    },
    {
      "cell_type": "code",
      "source": [
        "# Resnet 50 V2 feature vector\n",
        "resnet_url = \"https://tfhub.dev/google/imagenet/resnet_v2_50/feature_vector/4\"\n",
        "\n",
        "# Original: EfficientNetB0 feature vector (version 1)\n",
        "efficientnet_url = \"https://tfhub.dev/tensorflow/efficientnet/b0/feature-vector/1\"\n",
        "\n",
        "# # New: EfficientNetB0 feature vector (version 2)\n",
        "# efficientnet_url = \"https://tfhub.dev/google/imagenet/efficien"
      ],
      "metadata": {
        "id": "wAziy_nanBR1"
      },
      "execution_count": 6,
      "outputs": []
    },
    {
      "cell_type": "code",
      "source": [
        "import tensorflow as tf\n",
        "import tensorflow_hub as hub\n",
        "from tensorflow.keras import layers\n",
        "# lets make a creat_model() function to create a model from a URL\n",
        "def create_model(model_url, num_classes=10):\n",
        "  \"\"\"Takes a TensorFlow Hub URL and creates a Keras Sequential model with it.\n",
        "  \n",
        "  Args:\n",
        "    model_url (str): A TensorFlow Hub feature extraction URL.\n",
        "    num_classes (int): Number of output neurons in output layer,\n",
        "      should be equal to number of target classes, default 10.\n",
        "\n",
        "  Returns:\n",
        "    An uncompiled Keras Sequential model with model_url as feature\n",
        "    extractor layer and Dense output layer with num_classes outputs.\n",
        "  \"\"\"\n",
        "  # Download the pretrained model and save it as a Keras layer\n",
        "  feature_extractor_layer = hub.KerasLayer(model_url,\n",
        "                                           trainable=False, # freeze the underlying patterns\n",
        "                                           name='feature_extraction_layer',\n",
        "                                           input_shape=IMAGE_SHAPE+(3,)) # define the input image shape\n",
        "  \n",
        "  # Create our own model\n",
        "  model = tf.keras.Sequential([\n",
        "    feature_extractor_layer, # use the feature extraction layer as the base\n",
        "    layers.Dense(num_classes, activation='softmax', name='output_layer') # create our own output layer      \n",
        "  ])\n",
        "  print(num_classes)\n",
        "\n",
        "  return model\n",
        "  "
      ],
      "metadata": {
        "id": "ZlfhmYviojs8"
      },
      "execution_count": 21,
      "outputs": []
    },
    {
      "cell_type": "markdown",
      "source": [
        "> creating and testing ResNet tensorflow Hub feature extraction\n"
      ],
      "metadata": {
        "id": "yV1dxdim-p3g"
      }
    },
    {
      "cell_type": "code",
      "source": [
        "resnet_model=create_model(resnet_url,\n",
        "                          num_classes=train_data.num_classes)"
      ],
      "metadata": {
        "id": "j6_LkOsQ-4Ej",
        "colab": {
          "base_uri": "https://localhost:8080/"
        },
        "outputId": "7b73ea55-22d7-415e-cc37-07e0d3c462cd"
      },
      "execution_count": 22,
      "outputs": [
        {
          "output_type": "stream",
          "name": "stdout",
          "text": [
            "10\n"
          ]
        }
      ]
    },
    {
      "cell_type": "code",
      "source": [
        "resnet_model.summary()"
      ],
      "metadata": {
        "colab": {
          "base_uri": "https://localhost:8080/"
        },
        "id": "dfUvHRE_cEZM",
        "outputId": "aecd892e-e92a-4eca-fc25-b3d2da1394e6"
      },
      "execution_count": 23,
      "outputs": [
        {
          "output_type": "stream",
          "name": "stdout",
          "text": [
            "Model: \"sequential_2\"\n",
            "_________________________________________________________________\n",
            " Layer (type)                Output Shape              Param #   \n",
            "=================================================================\n",
            " feature_extraction_layer (K  (None, 2048)             23564800  \n",
            " erasLayer)                                                      \n",
            "                                                                 \n",
            " output_layer (Dense)        (None, 10)                20490     \n",
            "                                                                 \n",
            "=================================================================\n",
            "Total params: 23,585,290\n",
            "Trainable params: 20,490\n",
            "Non-trainable params: 23,564,800\n",
            "_________________________________________________________________\n"
          ]
        }
      ]
    },
    {
      "cell_type": "code",
      "source": [
        "resnet_model.compile(loss='categorical_crossentropy',\n",
        "                     optimizer=tf.keras.optimizers.Adam(),\n",
        "                     metrics=[\"accuracy\"])"
      ],
      "metadata": {
        "id": "f7dIXu0t_UO2"
      },
      "execution_count": 10,
      "outputs": []
    },
    {
      "cell_type": "code",
      "source": [
        "resnet_history=resnet_model.fit(train_data,\n",
        "                                epochs=5,\n",
        "                                steps_per_epoch=len(train_data),\n",
        "                                validation_data=test_data,\n",
        "                                validation_steps=len(test_data),\n",
        "                                callbacks=[create_tensorboard_callback(dir_name=\"tensorflow_hub\",\n",
        "                                                                       experiment_name=\"resnet50v2\")]\n",
        "                                \n",
        "                 )"
      ],
      "metadata": {
        "colab": {
          "base_uri": "https://localhost:8080/"
        },
        "id": "iTRmvbWldCD1",
        "outputId": "dce8bc26-df20-43bb-d712-a35fbd3270b8"
      },
      "execution_count": 11,
      "outputs": [
        {
          "output_type": "stream",
          "name": "stdout",
          "text": [
            "saving tfboard log file totensorflow_hub/resnet50v2/20221125-040413\n",
            "Epoch 1/5\n",
            "24/24 [==============================] - 38s 939ms/step - loss: 2.1782 - accuracy: 0.2733 - val_loss: 1.3167 - val_accuracy: 0.5932\n",
            "Epoch 2/5\n",
            "24/24 [==============================] - 17s 729ms/step - loss: 0.9928 - accuracy: 0.7093 - val_loss: 0.8656 - val_accuracy: 0.7308\n",
            "Epoch 3/5\n",
            "24/24 [==============================] - 17s 721ms/step - loss: 0.6696 - accuracy: 0.8107 - val_loss: 0.7633 - val_accuracy: 0.7584\n",
            "Epoch 4/5\n",
            "24/24 [==============================] - 16s 701ms/step - loss: 0.5210 - accuracy: 0.8560 - val_loss: 0.7253 - val_accuracy: 0.7664\n",
            "Epoch 5/5\n",
            "24/24 [==============================] - 16s 695ms/step - loss: 0.4141 - accuracy: 0.9000 - val_loss: 0.6795 - val_accuracy: 0.7824\n"
          ]
        }
      ]
    },
    {
      "cell_type": "markdown",
      "source": [
        ">Great!!"
      ],
      "metadata": {
        "id": "cs31ReCCo0Dq"
      }
    },
    {
      "cell_type": "code",
      "source": [
        "import matplotlib.pyplot as plt\n",
        " \n",
        "def plot_loss_curve(history):\n",
        "   loss=history.history['loss']\n",
        "   val_loss=history.history['val_loss']\n",
        "\n",
        "   \n",
        "   accuracy=history.history['accuracy']\n",
        "   val_accuracy=history.history['val_accuracy']\n",
        "\n",
        "   epochs=range(len(history.history['loss']))\n",
        "\n",
        "   plt.plot(epochs,loss,label=\"training loss\")\n",
        "   plt.plot(epochs,val_loss,label=\"val_loss\")\n",
        "   plt.title(\"loss\")\n",
        "   plt.xlabel(\"epochs\")\n",
        "   plt.legend()\n",
        "   \n",
        "   plt.figure()\n",
        "   plt.plot(epochs,accuracy,label=\"training_accuracy\")\n",
        "   plt.plot(epochs,val_accuracy,label=\"val_accuracu\")\n",
        "   plt.title(\"accuracy\")\n",
        "   plt.xlabel(\"epochs\")\n",
        "   plt.legend()"
      ],
      "metadata": {
        "id": "QJ0zjC6Mo3Sx"
      },
      "execution_count": 15,
      "outputs": []
    },
    {
      "cell_type": "code",
      "source": [
        "plot_loss_curve(resnet_history)"
      ],
      "metadata": {
        "colab": {
          "base_uri": "https://localhost:8080/",
          "height": 573
        },
        "id": "VKbUOjDVqomm",
        "outputId": "28ccb099-0227-4f8a-d6d8-7c4f29b12fe1"
      },
      "execution_count": 13,
      "outputs": [
        {
          "output_type": "display_data",
          "data": {
            "text/plain": [
              "<Figure size 432x288 with 1 Axes>"
            ],
            "image/png": "[encoded data removed]"
          },
          "metadata": {
            "needs_background": "light"
          }
        },
        {
          "output_type": "display_data",
          "data": {
            "text/plain": [
              "<Figure size 432x288 with 1 Axes>"
            ],
            "image/png": "[encoded data removed]"
          },
          "metadata": {
            "needs_background": "light"
          }
        }
      ]
    },
    {
      "cell_type": "markdown",
      "source": [
        "## Creating and testing EfficientNetB0 Tesnsorflow Hub features Extraction model"
      ],
      "metadata": {
        "id": "BcedVbegAmpC"
      }
    },
    {
      "cell_type": "code",
      "source": [
        "# create \n",
        "effnet_model=create_model(model_url=efficientnet_url)\n",
        "effnet_model.compile(loss=\"categorical_crossentropy\",\n",
        "                     optimizer=tf.keras.optimizers.Adam(),\n",
        "                     metrics=['accuracy'])\n",
        "\n",
        "# fitting\n",
        "effnet_history=effnet_model.fit(train_data,\n",
        "                                epochs=5, \n",
        "                                steps_per_epoch=len(train_data),\n",
        "                                validation_data=test_data,\n",
        "                                validation_steps=len(test_data),\n",
        "                                callbacks=[create_tensorboard_callback(dir_name=\"tensorflow_hub\",\n",
        "                                                                       experiment_name=\"efficientnetb0\")])"
      ],
      "metadata": {
        "colab": {
          "base_uri": "https://localhost:8080/"
        },
        "id": "qg-4qTF8AjaF",
        "outputId": "b26cb633-2676-4605-dc52-43a52ac4a039"
      },
      "execution_count": 27,
      "outputs": [
        {
          "output_type": "stream",
          "name": "stdout",
          "text": [
            "10\n",
            "saving tfboard log file totensorflow_hub/efficientnetb0/20221125-050114\n",
            "Epoch 1/5\n",
            "24/24 [==============================] - 25s 725ms/step - loss: 1.8710 - accuracy: 0.4133 - val_loss: 1.3187 - val_accuracy: 0.7292\n",
            "Epoch 2/5\n",
            "24/24 [==============================] - 16s 669ms/step - loss: 1.0746 - accuracy: 0.7760 - val_loss: 0.8738 - val_accuracy: 0.8160\n",
            "Epoch 3/5\n",
            "24/24 [==============================] - 16s 674ms/step - loss: 0.7573 - accuracy: 0.8307 - val_loss: 0.6967 - val_accuracy: 0.8472\n",
            "Epoch 4/5\n",
            "24/24 [==============================] - 16s 669ms/step - loss: 0.6077 - accuracy: 0.8693 - val_loss: 0.6131 - val_accuracy: 0.8572\n",
            "Epoch 5/5\n",
            "24/24 [==============================] - 16s 666ms/step - loss: 0.5077 - accuracy: 0.8947 - val_loss: 0.5563 - val_accuracy: 0.8656\n"
          ]
        }
      ]
    },
    {
      "cell_type": "code",
      "source": [
        "plot_loss_curve(effnet_history)"
      ],
      "metadata": {
        "colab": {
          "base_uri": "https://localhost:8080/",
          "height": 573
        },
        "id": "QCWmBKIXK531",
        "outputId": "1932af06-7ebb-4c76-edb7-12f5400f5949"
      },
      "execution_count": 29,
      "outputs": [
        {
          "output_type": "display_data",
          "data": {
            "text/plain": [
              "<Figure size 432x288 with 1 Axes>"
            ],
            "image/png": "[encoded data removed]"
          },
          "metadata": {
            "needs_background": "light"
          }
        },
        {
          "output_type": "display_data",
          "data": {
            "text/plain": [
              "<Figure size 432x288 with 1 Axes>"
            ],
            "image/png": "[encoded data removed]"
          },
          "metadata": {
            "needs_background": "light"
          }
        }
      ]
    }
  ]
}