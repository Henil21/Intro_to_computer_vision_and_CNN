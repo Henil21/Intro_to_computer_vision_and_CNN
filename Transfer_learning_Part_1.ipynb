{
  "cells": [
    {
      "cell_type": "markdown",
      "metadata": {
        "id": "view-in-github",
        "colab_type": "text"
      },
      "source": [
        "<a href=\"https://colab.research.google.com/github/Henil21/Intro_to_computer_vision_and_CNN/blob/main/Transfer_learning_Part_1.ipynb\" target=\"_parent\"><img src=\"https://colab.research.google.com/assets/colab-badge.svg\" alt=\"Open In Colab\"/></a>"
      ]
    },
    {
      "cell_type": "markdown",
      "metadata": {
        "id": "rReQdhwad9sr"
      },
      "source": [
        "There are two main benefits to using transfer learning:\n",
        "\n",
        "1. Can leverage an existing neural network architecture proven to work on problems similar to our own.\n",
        "\n",
        "\n",
        "2. Can leverage a working neural network architecture which has already learned patterns on similar data to our own. This often results in achieving great results with less custom data."
      ]
    },
    {
      "cell_type": "code",
      "execution_count": null,
      "metadata": {
        "colab": {
          "base_uri": "https://localhost:8080/"
        },
        "id": "X2EXu5x2aaUl",
        "outputId": "4cdd5926-add5-4549-c2ba-50ea6e3ac540"
      },
      "outputs": [
        {
          "output_type": "stream",
          "name": "stdout",
          "text": [
            "Thu Dec  1 04:13:48 2022       \n",
            "+-----------------------------------------------------------------------------+\n",
            "| NVIDIA-SMI 460.32.03    Driver Version: 460.32.03    CUDA Version: 11.2     |\n",
            "|-------------------------------+----------------------+----------------------+\n",
            "| GPU  Name        Persistence-M| Bus-Id        Disp.A | Volatile Uncorr. ECC |\n",
            "| Fan  Temp  Perf  Pwr:Usage/Cap|         Memory-Usage | GPU-Util  Compute M. |\n",
            "|                               |                      |               MIG M. |\n",
            "|===============================+======================+======================|\n",
            "|   0  Tesla T4            Off  | 00000000:00:04.0 Off |                    0 |\n",
            "| N/A   65C    P0    29W /  70W |      0MiB / 15109MiB |      0%      Default |\n",
            "|                               |                      |                  N/A |\n",
            "+-------------------------------+----------------------+----------------------+\n",
            "                                                                               \n",
            "+-----------------------------------------------------------------------------+\n",
            "| Processes:                                                                  |\n",
            "|  GPU   GI   CI        PID   Type   Process name                  GPU Memory |\n",
            "|        ID   ID                                                   Usage      |\n",
            "|=============================================================================|\n",
            "|  No running processes found                                                 |\n",
            "+-----------------------------------------------------------------------------+\n"
          ]
        }
      ],
      "source": [
        "# lets check we are using gpu or not\n",
        "!nvidia-smi"
      ]
    },
    {
      "cell_type": "code",
      "execution_count": null,
      "metadata": {
        "colab": {
          "base_uri": "https://localhost:8080/"
        },
        "id": "iaR1LLcheMlE",
        "outputId": "1da80982-7336-4db0-f05d-25dec9993bb1"
      },
      "outputs": [
        {
          "output_type": "stream",
          "name": "stdout",
          "text": [
            "--2022-12-01 04:13:48--  https://storage.googleapis.com/ztm_tf_course/food_vision/10_food_classes_10_percent.zip\n",
            "Resolving storage.googleapis.com (storage.googleapis.com)... 172.217.194.128, 142.251.10.128, 142.251.12.128, ...\n",
            "Connecting to storage.googleapis.com (storage.googleapis.com)|172.217.194.128|:443... connected.\n",
            "HTTP request sent, awaiting response... 200 OK\n",
            "Length: 168546183 (161M) [application/zip]\n",
            "Saving to: ‘10_food_classes_10_percent.zip’\n",
            "\n",
            "10_food_classes_10_ 100%[===================>] 160.74M  20.0MB/s    in 9.0s    \n",
            "\n",
            "2022-12-01 04:13:58 (17.8 MB/s) - ‘10_food_classes_10_percent.zip’ saved [168546183/168546183]\n",
            "\n"
          ]
        }
      ],
      "source": [
        "# get data (10$ if 10 food class)\n",
        "import zipfile\n",
        "!wget https://storage.googleapis.com/ztm_tf_course/food_vision/10_food_classes_10_percent.zip\n",
        "zip_ref=zipfile.ZipFile(\"10_food_classes_10_percent.zip\")\n",
        "zip_ref.extractall()\n",
        "zip_ref.close()"
      ]
    },
    {
      "cell_type": "code",
      "execution_count": null,
      "metadata": {
        "colab": {
          "base_uri": "https://localhost:8080/"
        },
        "id": "U8YkLFOOer2n",
        "outputId": "bf3450a6-2c04-4089-aca3-e97e64b71721"
      },
      "outputs": [
        {
          "output_type": "stream",
          "name": "stdout",
          "text": [
            "there are 2 directories and 0 images in '10_food_classes_10_percent'\n",
            "there are 10 directories and 0 images in '10_food_classes_10_percent/train'\n",
            "there are 0 directories and 75 images in '10_food_classes_10_percent/train/ramen'\n",
            "there are 0 directories and 75 images in '10_food_classes_10_percent/train/sushi'\n",
            "there are 0 directories and 75 images in '10_food_classes_10_percent/train/ice_cream'\n",
            "there are 0 directories and 75 images in '10_food_classes_10_percent/train/chicken_curry'\n",
            "there are 0 directories and 75 images in '10_food_classes_10_percent/train/hamburger'\n",
            "there are 0 directories and 75 images in '10_food_classes_10_percent/train/steak'\n",
            "there are 0 directories and 75 images in '10_food_classes_10_percent/train/grilled_salmon'\n",
            "there are 0 directories and 75 images in '10_food_classes_10_percent/train/chicken_wings'\n",
            "there are 0 directories and 75 images in '10_food_classes_10_percent/train/pizza'\n",
            "there are 0 directories and 75 images in '10_food_classes_10_percent/train/fried_rice'\n",
            "there are 10 directories and 0 images in '10_food_classes_10_percent/test'\n",
            "there are 0 directories and 250 images in '10_food_classes_10_percent/test/ramen'\n",
            "there are 0 directories and 250 images in '10_food_classes_10_percent/test/sushi'\n",
            "there are 0 directories and 250 images in '10_food_classes_10_percent/test/ice_cream'\n",
            "there are 0 directories and 250 images in '10_food_classes_10_percent/test/chicken_curry'\n",
            "there are 0 directories and 250 images in '10_food_classes_10_percent/test/hamburger'\n",
            "there are 0 directories and 250 images in '10_food_classes_10_percent/test/steak'\n",
            "there are 0 directories and 250 images in '10_food_classes_10_percent/test/grilled_salmon'\n",
            "there are 0 directories and 250 images in '10_food_classes_10_percent/test/chicken_wings'\n",
            "there are 0 directories and 250 images in '10_food_classes_10_percent/test/pizza'\n",
            "there are 0 directories and 250 images in '10_food_classes_10_percent/test/fried_rice'\n"
          ]
        }
      ],
      "source": [
        "import os\n",
        "for dirpath,dirname,filenames in os.walk(\"10_food_classes_10_percent\"):\n",
        "  print(f\"there are {len(dirname)} directories and {len(filenames)} images in '{dirpath}'\")"
      ]
    },
    {
      "cell_type": "markdown",
      "metadata": {
        "id": "8TuFu6LZfX1r"
      },
      "source": [
        "## Creating loader()\n",
        "we will use `ImageDataGenerator` class to load in our images in batches"
      ]
    },
    {
      "cell_type": "code",
      "execution_count": null,
      "metadata": {
        "colab": {
          "base_uri": "https://localhost:8080/"
        },
        "id": "K5AmzravgXDk",
        "outputId": "bf73fdbb-a2fc-4085-bdc6-d0c2dab036e0"
      },
      "outputs": [
        {
          "output_type": "stream",
          "name": "stdout",
          "text": [
            "Found 750 images belonging to 10 classes.\n",
            "testing images:\n",
            "Found 2500 images belonging to 10 classes.\n"
          ]
        }
      ],
      "source": [
        "from tensorflow.keras.preprocessing.image import ImageDataGenerator\n",
        "\n",
        "IMAGE_SHAPE=(224,224)\n",
        "BATCH_SIZE=32\n",
        "train_dir=\"10_food_classes_10_percent/train/\"\n",
        "test_dir=\"10_food_classes_10_percent/test/\"\n",
        "\n",
        "train_datagen=ImageDataGenerator(rescale=1/255)\n",
        "test_datagen=ImageDataGenerator(rescale=1/255)\n",
        "\n",
        "\n",
        "train_data=train_datagen.flow_from_directory(train_dir,\n",
        "                                 target_size=IMAGE_SHAPE,\n",
        "                                 batch_size=BATCH_SIZE,\n",
        "                                 class_mode=\"categorical\")\n",
        "\n",
        "print(\"testing images:\")\n",
        "test_data=test_datagen.flow_from_directory(test_dir,\n",
        "                                           target_size=IMAGE_SHAPE,\n",
        "                                           batch_size=BATCH_SIZE,\n",
        "                                           class_mode='categorical')"
      ]
    },
    {
      "cell_type": "markdown",
      "metadata": {
        "id": "qMVP6X7xjaTk"
      },
      "source": [
        "## Setting Up callback 🔙(things to run while our model trains)\n",
        "\n",
        "callback are extra functionality we can add to our models to performed during or after training .some of the most popular callbacks:\n",
        "\n",
        "* Experiment tracking with TensorBoard - log the performance of multiple models and then view and compare these models in a visual way on TensorBoard (a dashboard for inspecting neural network parameters). Helpful to compare the results of different models on your data.\n",
        "\n",
        "\n",
        "* Model checkpointing - save your model as it trains so you can stop training if needed and come back to continue off where you left. Helpful if training takes a long time and can't be done in one sitting.\n",
        "\n",
        "\n",
        "* Early stopping - leave your model training for an arbitrary amount of time and have it stop training automatically when it ceases to improve. Helpful when you've got a large dataset and don't know how long training will take."
      ]
    },
    {
      "cell_type": "code",
      "execution_count": null,
      "metadata": {
        "id": "1qAaY2KAnNZg"
      },
      "outputs": [],
      "source": [
        "# create TensorBoard callback (functionized because we need to create a new model)\n",
        "import datetime\n",
        "import tensorflow as tf\n",
        "def create_tensorboard_callback(dir_name,experiment_name):\n",
        "  log_dir=dir_name+'/'+experiment_name+\"/\"+datetime.datetime.now().strftime(\"%Y%m%d-%H%M%S\")\n",
        "  tensorboard_callback=tf.keras.callbacks.TensorBoard(log_dir=log_dir)\n",
        "  print(f\"saving tfboard log file to{log_dir}\")\n",
        "  return  tensorboard_callback"
      ]
    },
    {
      "cell_type": "markdown",
      "metadata": {
        "id": "8-r2-wifcw9P"
      },
      "source": [
        "## Create models using TesnsorFlow Hub⚜"
      ]
    },
    {
      "cell_type": "code",
      "execution_count": null,
      "metadata": {
        "id": "wAziy_nanBR1"
      },
      "outputs": [],
      "source": [
        "# Resnet 50 V2 feature vector\n",
        "resnet_url = \"https://tfhub.dev/google/imagenet/resnet_v2_50/feature_vector/4\"\n",
        "\n",
        "# Original: EfficientNetB0 feature vector (version 1)\n",
        "efficientnet_url = \"https://tfhub.dev/tensorflow/efficientnet/b0/feature-vector/1\"\n",
        "\n",
        "# # New: EfficientNetB0 feature vector (version 2)\n",
        "# efficientnet_url = \"https://tfhub.dev/google/imagenet/efficien"
      ]
    },
    {
      "cell_type": "code",
      "execution_count": null,
      "metadata": {
        "id": "ZlfhmYviojs8"
      },
      "outputs": [],
      "source": [
        "import tensorflow as tf\n",
        "import tensorflow_hub as hub\n",
        "from tensorflow.keras import layers\n",
        "# lets make a creat_model() function to create a model from a URL\n",
        "def create_model(model_url, num_classes=10):\n",
        "  \"\"\"Takes a TensorFlow Hub URL and creates a Keras Sequential model with it.\n",
        "  \n",
        "  Args:\n",
        "    model_url (str): A TensorFlow Hub feature extraction URL.\n",
        "    num_classes (int): Number of output neurons in output layer,\n",
        "      should be equal to number of target classes, default 10.\n",
        "\n",
        "  Returns:\n",
        "    An uncompiled Keras Sequential model with model_url as feature\n",
        "    extractor layer and Dense output layer with num_classes outputs.\n",
        "  \"\"\"\n",
        "  # Download the pretrained model and save it as a Keras layer\n",
        "  feature_extractor_layer = hub.KerasLayer(model_url,\n",
        "                                           trainable=False, # freeze the underlying patterns\n",
        "                                           name='feature_extraction_layer',\n",
        "                                           input_shape=IMAGE_SHAPE+(3,)) # define the input image shape\n",
        "  \n",
        "  # Create our own model\n",
        "  model = tf.keras.Sequential([\n",
        "    feature_extractor_layer, # use the feature extraction layer as the base\n",
        "    layers.Dense(num_classes, activation='softmax', name='output_layer') # create our own output layer      \n",
        "  ])\n",
        "  print(num_classes)\n",
        "\n",
        "  return model\n",
        "  "
      ]
    },
    {
      "cell_type": "markdown",
      "metadata": {
        "id": "yV1dxdim-p3g"
      },
      "source": [
        "> creating and testing ResNet tensorflow Hub feature extraction\n"
      ]
    },
    {
      "cell_type": "code",
      "execution_count": null,
      "metadata": {
        "colab": {
          "base_uri": "https://localhost:8080/"
        },
        "id": "j6_LkOsQ-4Ej",
        "outputId": "9c1d5c8c-8ceb-4edf-d7d1-f3c74fee716c"
      },
      "outputs": [
        {
          "output_type": "stream",
          "name": "stdout",
          "text": [
            "10\n"
          ]
        }
      ],
      "source": [
        "resnet_model=create_model(resnet_url,\n",
        "                          num_classes=train_data.num_classes)"
      ]
    },
    {
      "cell_type": "code",
      "execution_count": null,
      "metadata": {
        "colab": {
          "base_uri": "https://localhost:8080/"
        },
        "id": "dfUvHRE_cEZM",
        "outputId": "c15e704a-fe59-4ba5-b0c8-9fdac88d0a5c"
      },
      "outputs": [
        {
          "output_type": "stream",
          "name": "stdout",
          "text": [
            "Model: \"sequential\"\n",
            "_________________________________________________________________\n",
            " Layer (type)                Output Shape              Param #   \n",
            "=================================================================\n",
            " feature_extraction_layer (K  (None, 2048)             23564800  \n",
            " erasLayer)                                                      \n",
            "                                                                 \n",
            " output_layer (Dense)        (None, 10)                20490     \n",
            "                                                                 \n",
            "=================================================================\n",
            "Total params: 23,585,290\n",
            "Trainable params: 20,490\n",
            "Non-trainable params: 23,564,800\n",
            "_________________________________________________________________\n"
          ]
        }
      ],
      "source": [
        "resnet_model.summary()"
      ]
    },
    {
      "cell_type": "code",
      "execution_count": null,
      "metadata": {
        "id": "f7dIXu0t_UO2"
      },
      "outputs": [],
      "source": [
        "resnet_model.compile(loss='categorical_crossentropy',\n",
        "                     optimizer=tf.keras.optimizers.Adam(),\n",
        "                     metrics=[\"accuracy\"])"
      ]
    },
    {
      "cell_type": "code",
      "execution_count": null,
      "metadata": {
        "colab": {
          "base_uri": "https://localhost:8080/"
        },
        "id": "iTRmvbWldCD1",
        "outputId": "1fac1cde-2ed1-4bba-aa7c-0d365cb4c3a3"
      },
      "outputs": [
        {
          "output_type": "stream",
          "name": "stdout",
          "text": [
            "saving tfboard log file totensorflow_hub/resnet50v2/20221201-041416\n",
            "Epoch 1/5\n",
            "24/24 [==============================] - 29s 802ms/step - loss: 1.8424 - accuracy: 0.3747 - val_loss: 1.2164 - val_accuracy: 0.6296\n",
            "Epoch 2/5\n",
            "24/24 [==============================] - 16s 704ms/step - loss: 0.9337 - accuracy: 0.7147 - val_loss: 0.8772 - val_accuracy: 0.7240\n",
            "Epoch 3/5\n",
            "24/24 [==============================] - 17s 735ms/step - loss: 0.6358 - accuracy: 0.8187 - val_loss: 0.7600 - val_accuracy: 0.7540\n",
            "Epoch 4/5\n",
            "24/24 [==============================] - 17s 730ms/step - loss: 0.4771 - accuracy: 0.8813 - val_loss: 0.6924 - val_accuracy: 0.7788\n",
            "Epoch 5/5\n",
            "24/24 [==============================] - 16s 708ms/step - loss: 0.3835 - accuracy: 0.9107 - val_loss: 0.6697 - val_accuracy: 0.7848\n"
          ]
        }
      ],
      "source": [
        "resnet_history=resnet_model.fit(train_data,\n",
        "                                epochs=5,\n",
        "                                steps_per_epoch=len(train_data),\n",
        "                                validation_data=test_data,\n",
        "                                validation_steps=len(test_data),\n",
        "                                callbacks=[create_tensorboard_callback(dir_name=\"tensorflow_hub\",\n",
        "                                                                       experiment_name=\"resnet50v2\")]\n",
        "                                \n",
        "                 )"
      ]
    },
    {
      "cell_type": "markdown",
      "metadata": {
        "id": "cs31ReCCo0Dq"
      },
      "source": [
        ">Great!!"
      ]
    },
    {
      "cell_type": "code",
      "execution_count": null,
      "metadata": {
        "id": "QJ0zjC6Mo3Sx"
      },
      "outputs": [],
      "source": [
        "import matplotlib.pyplot as plt\n",
        " \n",
        "def plot_loss_curve(history):\n",
        "   loss=history.history['loss']\n",
        "   val_loss=history.history['val_loss']\n",
        "\n",
        "   \n",
        "   accuracy=history.history['accuracy']\n",
        "   val_accuracy=history.history['val_accuracy']\n",
        "\n",
        "   epochs=range(len(history.history['loss']))\n",
        "\n",
        "   plt.plot(epochs,loss,label=\"training loss\")\n",
        "   plt.plot(epochs,val_loss,label=\"val_loss\")\n",
        "   plt.title(\"loss\")\n",
        "   plt.xlabel(\"epochs\")\n",
        "   plt.legend()\n",
        "   \n",
        "   plt.figure()\n",
        "   plt.plot(epochs,accuracy,label=\"training_accuracy\")\n",
        "   plt.plot(epochs,val_accuracy,label=\"val_accuracu\")\n",
        "   plt.title(\"accuracy\")\n",
        "   plt.xlabel(\"epochs\")\n",
        "   plt.legend()"
      ]
    },
    {
      "cell_type": "code",
      "execution_count": null,
      "metadata": {
        "colab": {
          "base_uri": "https://localhost:8080/",
          "height": 573
        },
        "id": "VKbUOjDVqomm",
        "outputId": "7c7f08bf-6df4-4a7d-d1f5-d4e3e2f7c1d1"
      },
      "outputs": [
        {
          "output_type": "display_data",
          "data": {
            "text/plain": [
              "<Figure size 432x288 with 1 Axes>"
            ],
            "image/png": "[encoded data removed]"
          },
          "metadata": {
            "needs_background": "light"
          }
        },
        {
          "output_type": "display_data",
          "data": {
            "text/plain": [
              "<Figure size 432x288 with 1 Axes>"
            ],
            "image/png": "[encoded data removed]"
          },
          "metadata": {
            "needs_background": "light"
          }
        }
      ],
      "source": [
        "plot_loss_curve(resnet_history)"
      ]
    },
    {
      "cell_type": "markdown",
      "metadata": {
        "id": "BcedVbegAmpC"
      },
      "source": [
        "## Creating and testing EfficientNetB0 Tesnsorflow Hub features Extraction model"
      ]
    },
    {
      "cell_type": "code",
      "execution_count": null,
      "metadata": {
        "colab": {
          "base_uri": "https://localhost:8080/"
        },
        "id": "qg-4qTF8AjaF",
        "outputId": "def28987-c66d-46a0-911f-46e92286e6e9"
      },
      "outputs": [
        {
          "output_type": "stream",
          "name": "stdout",
          "text": [
            "10\n",
            "saving tfboard log file totensorflow_hub/efficientnetb0/20221201-041609\n",
            "Epoch 1/5\n",
            "24/24 [==============================] - 26s 741ms/step - loss: 1.8334 - accuracy: 0.4400 - val_loss: 1.3086 - val_accuracy: 0.7280\n",
            "Epoch 2/5\n",
            "24/24 [==============================] - 16s 675ms/step - loss: 1.0540 - accuracy: 0.7813 - val_loss: 0.8685 - val_accuracy: 0.8160\n",
            "Epoch 3/5\n",
            "24/24 [==============================] - 16s 674ms/step - loss: 0.7470 - accuracy: 0.8453 - val_loss: 0.6995 - val_accuracy: 0.8396\n",
            "Epoch 4/5\n",
            "24/24 [==============================] - 16s 666ms/step - loss: 0.6021 - accuracy: 0.8680 - val_loss: 0.6134 - val_accuracy: 0.8512\n",
            "Epoch 5/5\n",
            "24/24 [==============================] - 15s 661ms/step - loss: 0.5083 - accuracy: 0.8867 - val_loss: 0.5601 - val_accuracy: 0.8580\n"
          ]
        }
      ],
      "source": [
        "# create \n",
        "effnet_model=create_model(model_url=efficientnet_url)\n",
        "effnet_model.compile(loss=\"categorical_crossentropy\",\n",
        "                     optimizer=tf.keras.optimizers.Adam(),\n",
        "                     metrics=['accuracy'])\n",
        "\n",
        "# fitting\n",
        "effnet_history=effnet_model.fit(train_data,\n",
        "                                epochs=5, \n",
        "                                steps_per_epoch=len(train_data),\n",
        "                                validation_data=test_data,\n",
        "                                validation_steps=len(test_data),\n",
        "                                callbacks=[create_tensorboard_callback(dir_name=\"tensorflow_hub\",\n",
        "                                                                       experiment_name=\"efficientnetb0\")])"
      ]
    },
    {
      "cell_type": "code",
      "execution_count": null,
      "metadata": {
        "colab": {
          "base_uri": "https://localhost:8080/",
          "height": 573
        },
        "id": "QCWmBKIXK531",
        "outputId": "744caf00-3d00-43e7-c4ca-a2d7aa2d89e2"
      },
      "outputs": [
        {
          "output_type": "display_data",
          "data": {
            "text/plain": [
              "<Figure size 432x288 with 1 Axes>"
            ],
            "image/png": "[encoded data removed]"
          },
          "metadata": {
            "needs_background": "light"
          }
        },
        {
          "output_type": "display_data",
          "data": {
            "text/plain": [
              "<Figure size 432x288 with 1 Axes>"
            ],
            "image/png": "[encoded data removed]"
          },
          "metadata": {
            "needs_background": "light"
          }
        }
      ],
      "source": [
        "plot_loss_curve(effnet_history)"
      ]
    },
    {
      "cell_type": "code",
      "source": [
        "effnet_model.summary()"
      ],
      "metadata": {
        "colab": {
          "base_uri": "https://localhost:8080/"
        },
        "id": "5gARo-7O-_Th",
        "outputId": "bc29dd83-e70f-4886-b791-5640e163ddda"
      },
      "execution_count": 16,
      "outputs": [
        {
          "output_type": "stream",
          "name": "stdout",
          "text": [
            "Model: \"sequential_1\"\n",
            "_________________________________________________________________\n",
            " Layer (type)                Output Shape              Param #   \n",
            "=================================================================\n",
            " feature_extraction_layer (K  (None, 1280)             4049564   \n",
            " erasLayer)                                                      \n",
            "                                                                 \n",
            " output_layer (Dense)        (None, 10)                12810     \n",
            "                                                                 \n",
            "=================================================================\n",
            "Total params: 4,062,374\n",
            "Trainable params: 12,810\n",
            "Non-trainable params: 4,049,564\n",
            "_________________________________________________________________\n"
          ]
        }
      ]
    }
  ],
  "metadata": {
    "accelerator": "GPU",
    "colab": {
      "provenance": [],
      "authorship_tag": "ABX9TyM8qQyIgl7ILw72VDTOvufK",
      "include_colab_link": true
    },
    "gpuClass": "standard",
    "kernelspec": {
      "display_name": "Python 3",
      "name": "python3"
    },
    "language_info": {
      "name": "python"
    }
  },
  "nbformat": 4,
  "nbformat_minor": 0
}