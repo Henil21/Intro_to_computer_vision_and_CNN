{
  "nbformat": 4,
  "nbformat_minor": 0,
  "metadata": {
    "colab": {
      "provenance": [],
      "authorship_tag": "ABX9TyMGrs8mzCvqSCeArXqatIdX",
      "include_colab_link": true
    },
    "kernelspec": {
      "name": "python3",
      "display_name": "Python 3"
    },
    "language_info": {
      "name": "python"
    },
    "accelerator": "GPU",
    "gpuClass": "standard"
  },
  "cells": [
    {
      "cell_type": "markdown",
      "metadata": {
        "id": "view-in-github",
        "colab_type": "text"
      },
      "source": [
        "<a href=\"https://colab.research.google.com/github/Henil21/Intro_to_computer_vision_and_CNN/blob/main/Transfer_learning_Part_1.ipynb\" target=\"_parent\"><img src=\"https://colab.research.google.com/assets/colab-badge.svg\" alt=\"Open In Colab\"/></a>"
      ]
    },
    {
      "cell_type": "markdown",
      "source": [
        "There are two main benefits to using transfer learning:\n",
        "\n",
        "1. Can leverage an existing neural network architecture proven to work on problems similar to our own.\n",
        "\n",
        "\n",
        "2. Can leverage a working neural network architecture which has already learned patterns on similar data to our own. This often results in achieving great results with less custom data."
      ],
      "metadata": {
        "id": "rReQdhwad9sr"
      }
    },
    {
      "cell_type": "code",
      "execution_count": 3,
      "metadata": {
        "colab": {
          "base_uri": "https://localhost:8080/"
        },
        "id": "X2EXu5x2aaUl",
        "outputId": "97d0343a-a4bb-48a4-c301-a41c1d3f7cc8"
      },
      "outputs": [
        {
          "output_type": "stream",
          "name": "stdout",
          "text": [
            "Thu Nov 17 12:50:01 2022       \n",
            "+-----------------------------------------------------------------------------+\n",
            "| NVIDIA-SMI 460.32.03    Driver Version: 460.32.03    CUDA Version: 11.2     |\n",
            "|-------------------------------+----------------------+----------------------+\n",
            "| GPU  Name        Persistence-M| Bus-Id        Disp.A | Volatile Uncorr. ECC |\n",
            "| Fan  Temp  Perf  Pwr:Usage/Cap|         Memory-Usage | GPU-Util  Compute M. |\n",
            "|                               |                      |               MIG M. |\n",
            "|===============================+======================+======================|\n",
            "|   0  Tesla T4            Off  | 00000000:00:04.0 Off |                    0 |\n",
            "| N/A   36C    P8     9W /  70W |      0MiB / 15109MiB |      0%      Default |\n",
            "|                               |                      |                  N/A |\n",
            "+-------------------------------+----------------------+----------------------+\n",
            "                                                                               \n",
            "+-----------------------------------------------------------------------------+\n",
            "| Processes:                                                                  |\n",
            "|  GPU   GI   CI        PID   Type   Process name                  GPU Memory |\n",
            "|        ID   ID                                                   Usage      |\n",
            "|=============================================================================|\n",
            "|  No running processes found                                                 |\n",
            "+-----------------------------------------------------------------------------+\n"
          ]
        }
      ],
      "source": [
        "# lets check we are using gpu or not\n",
        "!nvidia-smi"
      ]
    },
    {
      "cell_type": "code",
      "source": [
        "# get data (10$ if 10 food class)\n",
        "import zipfile\n",
        "!wget https://storage.googleapis.com/ztm_tf_course/food_vision/10_food_classes_10_percent.zip\n",
        "zip_ref=zipfile.ZipFile(\"10_food_classes_10_percent.zip\")\n",
        "zip_ref.extractall()\n",
        "zip_ref.close()"
      ],
      "metadata": {
        "colab": {
          "base_uri": "https://localhost:8080/"
        },
        "id": "iaR1LLcheMlE",
        "outputId": "dbb27336-d6aa-4992-c583-091b269359f1"
      },
      "execution_count": 4,
      "outputs": [
        {
          "output_type": "stream",
          "name": "stdout",
          "text": [
            "--2022-11-17 12:50:01--  https://storage.googleapis.com/ztm_tf_course/food_vision/10_food_classes_10_percent.zip\n",
            "Resolving storage.googleapis.com (storage.googleapis.com)... 74.125.200.128, 74.125.68.128, 142.250.4.128, ...\n",
            "Connecting to storage.googleapis.com (storage.googleapis.com)|74.125.200.128|:443... connected.\n",
            "HTTP request sent, awaiting response... 200 OK\n",
            "Length: 168546183 (161M) [application/zip]\n",
            "Saving to: ‘10_food_classes_10_percent.zip’\n",
            "\n",
            "10_food_classes_10_ 100%[===================>] 160.74M  21.4MB/s    in 8.6s    \n",
            "\n",
            "2022-11-17 12:50:10 (18.8 MB/s) - ‘10_food_classes_10_percent.zip’ saved [168546183/168546183]\n",
            "\n"
          ]
        }
      ]
    },
    {
      "cell_type": "code",
      "source": [
        "import os\n",
        "for dirpath,dirname,filenames in os.walk(\"10_food_classes_10_percent\"):\n",
        "  print(f\"there are {len(dirname)} directories and {len(filenames)} images in '{dirpath}'\")"
      ],
      "metadata": {
        "colab": {
          "base_uri": "https://localhost:8080/"
        },
        "id": "U8YkLFOOer2n",
        "outputId": "027fade3-04fb-4f70-cbe7-8a1f484b7b58"
      },
      "execution_count": 5,
      "outputs": [
        {
          "output_type": "stream",
          "name": "stdout",
          "text": [
            "there are 2 directories and 0 images in '10_food_classes_10_percent'\n",
            "there are 10 directories and 0 images in '10_food_classes_10_percent/test'\n",
            "there are 0 directories and 250 images in '10_food_classes_10_percent/test/ice_cream'\n",
            "there are 0 directories and 250 images in '10_food_classes_10_percent/test/fried_rice'\n",
            "there are 0 directories and 250 images in '10_food_classes_10_percent/test/ramen'\n",
            "there are 0 directories and 250 images in '10_food_classes_10_percent/test/sushi'\n",
            "there are 0 directories and 250 images in '10_food_classes_10_percent/test/hamburger'\n",
            "there are 0 directories and 250 images in '10_food_classes_10_percent/test/grilled_salmon'\n",
            "there are 0 directories and 250 images in '10_food_classes_10_percent/test/chicken_wings'\n",
            "there are 0 directories and 250 images in '10_food_classes_10_percent/test/steak'\n",
            "there are 0 directories and 250 images in '10_food_classes_10_percent/test/chicken_curry'\n",
            "there are 0 directories and 250 images in '10_food_classes_10_percent/test/pizza'\n",
            "there are 10 directories and 0 images in '10_food_classes_10_percent/train'\n",
            "there are 0 directories and 75 images in '10_food_classes_10_percent/train/ice_cream'\n",
            "there are 0 directories and 75 images in '10_food_classes_10_percent/train/fried_rice'\n",
            "there are 0 directories and 75 images in '10_food_classes_10_percent/train/ramen'\n",
            "there are 0 directories and 75 images in '10_food_classes_10_percent/train/sushi'\n",
            "there are 0 directories and 75 images in '10_food_classes_10_percent/train/hamburger'\n",
            "there are 0 directories and 75 images in '10_food_classes_10_percent/train/grilled_salmon'\n",
            "there are 0 directories and 75 images in '10_food_classes_10_percent/train/chicken_wings'\n",
            "there are 0 directories and 75 images in '10_food_classes_10_percent/train/steak'\n",
            "there are 0 directories and 75 images in '10_food_classes_10_percent/train/chicken_curry'\n",
            "there are 0 directories and 75 images in '10_food_classes_10_percent/train/pizza'\n"
          ]
        }
      ]
    },
    {
      "cell_type": "markdown",
      "source": [
        "## Creating loader()\n",
        "we will use `ImageDataGenerator` class to load in our images in batches"
      ],
      "metadata": {
        "id": "8TuFu6LZfX1r"
      }
    },
    {
      "cell_type": "code",
      "source": [
        "from tensorflow.keras.preprocessing.image import ImageDataGenerator\n",
        "\n",
        "IMAGE_SHAPE=(224,224)\n",
        "BATCH_SIZE=32\n",
        "train_dir=\"10_food_classes_10_percent/train/\"\n",
        "test_dir=\"10_food_classes_10_percent/test/\"\n",
        "\n",
        "train_datagen=ImageDataGenerator(rescale=1/255)\n",
        "test_datagen=ImageDataGenerator(rescale=1/255)\n",
        "\n",
        "\n",
        "train_datagen=train_datagen.flow_from_directory(train_dir,\n",
        "                                 target_size=IMAGE_SHAPE,\n",
        "                                 batch_size=BATCH_SIZE,\n",
        "                                 class_mode=\"categorical\")\n",
        "\n",
        "print(\"testing images:\")\n",
        "test_data=test_datagen.flow_from_directory(test_dir,\n",
        "                                           target_size=IMAGE_SHAPE,\n",
        "                                           batch_size=BATCH_SIZE,\n",
        "                                           class_mode='categorical')"
      ],
      "metadata": {
        "colab": {
          "base_uri": "https://localhost:8080/"
        },
        "id": "K5AmzravgXDk",
        "outputId": "89a91fad-c7f0-4928-e6b0-5778f37ccc94"
      },
      "execution_count": 6,
      "outputs": [
        {
          "output_type": "stream",
          "name": "stdout",
          "text": [
            "Found 750 images belonging to 10 classes.\n",
            "testing images:\n",
            "Found 2500 images belonging to 10 classes.\n"
          ]
        }
      ]
    },
    {
      "cell_type": "markdown",
      "source": [
        "## Setting Up callback 🔙(things to run while our model trains)\n",
        "\n",
        "callback are extra functionality we can add to our models to performed during or after training .some of the most popular callbacks:\n",
        "\n",
        "* Experiment tracking with TensorBoard - log the performance of multiple models and then view and compare these models in a visual way on TensorBoard (a dashboard for inspecting neural network parameters). Helpful to compare the results of different models on your data.\n",
        "\n",
        "\n",
        "* Model checkpointing - save your model as it trains so you can stop training if needed and come back to continue off where you left. Helpful if training takes a long time and can't be done in one sitting.\n",
        "\n",
        "\n",
        "* Early stopping - leave your model training for an arbitrary amount of time and have it stop training automatically when it ceases to improve. Helpful when you've got a large dataset and don't know how long training will take."
      ],
      "metadata": {
        "id": "qMVP6X7xjaTk"
      }
    },
    {
      "cell_type": "code",
      "source": [
        "# create TensorBoard callback (functionized because we need to create a new model)\n",
        "import datetime\n",
        "import tensorflow as tf\n",
        "def create_tensorboard_callback(dir_name,_experiment_name):\n",
        "  log_dir=dir_name+'/'+experiment_name+\"/\"+datetime.datetime.now().strftime(\"%Y%m%d-%H%M%S\")\n",
        "  tensorboard_callback=tf.keras.callbacks.TensorBoard(log_dir=log_dir)\n",
        "  print(f\"saving tfboard log file to{log_dir}\")\n",
        "  return  tensorboard_callback"
      ],
      "metadata": {
        "id": "1qAaY2KAnNZg"
      },
      "execution_count": 7,
      "outputs": []
    }
  ]
}